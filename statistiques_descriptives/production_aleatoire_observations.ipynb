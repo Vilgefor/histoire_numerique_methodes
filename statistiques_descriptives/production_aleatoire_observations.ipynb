{
 "cells": [
  {
   "cell_type": "markdown",
   "id": "a53748ae-63bf-43d0-a723-0fd199166ec9",
   "metadata": {
    "tags": []
   },
   "source": [
    "# Création aléatoire d'observations de propriétés concernant une population\n",
    "\n",
    "Version du 11 avril 2022\n",
    "\n",
    "130 personnes, cinq caractères: age, personnes dans le même foyer, fréquence de lecture du journal, orientation politique, revenu mensuel\n",
    "\n",
    "La finalité de ce document est de produire des observations similaires à celles du tableau 1.1, Hamon : Hamon Philippe, Hamon Agnès, et Jégou Nicolas, _Statistique descriptive. Cours et exercices corrigés_, Rennes, PUR, 2008, p.4. Et ce à défaut de disposer de données réelles avec ces mêmes variables.\n",
    "\n",
    "Afin de reproduire ce tableau, on utilise des fonctions produisant des valeur aléatoires.\n",
    "\n",
    "* On produit d'abord les valeurs aléatoires (remplaçant les observations) pour chaque variable\n",
    "* On les regroupe ensuite dans un dataframe Pandas\n",
    "* 130 individus fictifs ont été créés\n",
    "* Les données on été ensuite exportées vers un fichier csv ('data/observations.csv')\n",
    "* Elles on été ensuite modifiées manuellement afin de renforcer certaines tendances en vue des analysess ('data/observations.csv') — Fichier à conserver et copie de sauvegarde\n",
    "\n"
   ]
  },
  {
   "cell_type": "markdown",
   "id": "hungry-return",
   "metadata": {},
   "source": [
    "## Importer les librairies nécessaires"
   ]
  },
  {
   "cell_type": "code",
   "execution_count": 1,
   "id": "dense-sympathy",
   "metadata": {},
   "outputs": [],
   "source": [
    "import random\n",
    "import pandas as pd\n"
   ]
  },
  {
   "cell_type": "code",
   "execution_count": null,
   "id": "historic-cinema",
   "metadata": {},
   "outputs": [],
   "source": []
  },
  {
   "cell_type": "markdown",
   "id": "bibliographic-matter",
   "metadata": {},
   "source": [
    "## Produire les observations\n",
    "\n",
    "Cf. Hamon, p.4, tableau 1.1\n",
    "\n",
    "Afin de reproduire ce tableau, on utilise des fonctions produisant des valeur aléatoires.\n",
    "\n",
    "* On produit d'abord les valeurs aléatoires (remplaçant les observations) pour chaque variable\n",
    "* On les regroupe ensuite dans un dataframe Pandas\n",
    "* 130 individus fictifs ont été créés"
   ]
  },
  {
   "cell_type": "code",
   "execution_count": 2,
   "id": "tropical-charles",
   "metadata": {},
   "outputs": [
    {
     "name": "stdout",
     "output_type": "stream",
     "text": [
      "[126, 127, 128, 129, 130]\n"
     ]
    },
    {
     "data": {
      "text/plain": [
       "130"
      ]
     },
     "execution_count": 2,
     "metadata": {},
     "output_type": "execute_result"
    }
   ],
   "source": [
    "### Créer une liste d'identifiants\n",
    "id_list = []\n",
    "[id_list.append(x) for x in range(1,131)]\n",
    "\n",
    "print(id_list[-5:])\n",
    "len(id_list)"
   ]
  },
  {
   "cell_type": "code",
   "execution_count": 3,
   "id": "unique-accounting",
   "metadata": {
    "tags": []
   },
   "outputs": [
    {
     "name": "stdout",
     "output_type": "stream",
     "text": [
      "[67, 63, 39, 68, 62]\n"
     ]
    },
    {
     "data": {
      "text/plain": [
       "130"
      ]
     },
     "execution_count": 3,
     "metadata": {},
     "output_type": "execute_result"
    }
   ],
   "source": [
    "### Créer une liste d'âges\n",
    "age_list = []\n",
    "for x in range(1,131):\n",
    "    age_list.append(random.randint(18,90))\n",
    "\n",
    "print(age_list[:5])\n",
    "len(age_list)"
   ]
  },
  {
   "cell_type": "code",
   "execution_count": 4,
   "id": "rapid-portable",
   "metadata": {},
   "outputs": [
    {
     "name": "stdout",
     "output_type": "stream",
     "text": [
      "[3, 5, 6, 3, 7]\n"
     ]
    },
    {
     "data": {
      "text/plain": [
       "130"
      ]
     },
     "execution_count": 4,
     "metadata": {},
     "output_type": "execute_result"
    }
   ],
   "source": [
    "### Créer une liste de nombre de personne dans un foyer\n",
    "nfoyer_list = []\n",
    "for x in range(1,131): \n",
    "    nfoyer_list.append(random.randint(1,7))\n",
    "\n",
    "print(nfoyer_list[:5])\n",
    "len(nfoyer_list)"
   ]
  },
  {
   "cell_type": "code",
   "execution_count": 5,
   "id": "written-pasta",
   "metadata": {},
   "outputs": [
    {
     "name": "stdout",
     "output_type": "stream",
     "text": [
      "['de temps en temps', 'tous les jours', 'le week-end', 'de temps en temps', 'tous les jours']\n"
     ]
    },
    {
     "data": {
      "text/plain": [
       "130"
      ]
     },
     "execution_count": 5,
     "metadata": {},
     "output_type": "execute_result"
    }
   ],
   "source": [
    "### Créer une liste de fréquences de lecture des journaux\n",
    "lecture_list = []\n",
    "for x in range(1,131): \n",
    "    lecture_list.append(random.choice(['tous les jours', 'de temps en temps', 'très rarement', 'trois-quatre fois par semaine', 'le week-end']))\n",
    "\n",
    "print(lecture_list[:5])\n",
    "len(lecture_list)"
   ]
  },
  {
   "cell_type": "code",
   "execution_count": 6,
   "id": "twenty-testament",
   "metadata": {
    "tags": []
   },
   "outputs": [
    {
     "name": "stdout",
     "output_type": "stream",
     "text": [
      "['gauche', 'gauche', 'écologiste', 'gauche', 'droite']\n"
     ]
    },
    {
     "data": {
      "text/plain": [
       "130"
      ]
     },
     "execution_count": 6,
     "metadata": {},
     "output_type": "execute_result"
    }
   ],
   "source": [
    "### Créer une liste d'orientations politiques\n",
    "politique_list = []\n",
    "for x in range(1,131): \n",
    "    politique_list.append(random.choice(['gauche', 'écologiste', 'droite', 'centre', 'populiste']))\n",
    "\n",
    "print(politique_list[:5])\n",
    "len(politique_list)"
   ]
  },
  {
   "cell_type": "code",
   "execution_count": 7,
   "id": "closed-trader",
   "metadata": {
    "tags": []
   },
   "outputs": [
    {
     "name": "stdout",
     "output_type": "stream",
     "text": [
      "[8111, 8860, 7030, 10834, 4229]\n"
     ]
    },
    {
     "data": {
      "text/plain": [
       "130"
      ]
     },
     "execution_count": 7,
     "metadata": {},
     "output_type": "execute_result"
    }
   ],
   "source": [
    "### Créer une liste de revenus mensuels\n",
    "revenu_list = []\n",
    "for x in range(1,131): \n",
    "    revenu_list.append(random.randint(2500,12000))\n",
    "\n",
    "print(revenu_list[:5])\n",
    "len(revenu_list)"
   ]
  },
  {
   "cell_type": "markdown",
   "id": "agreed-nevada",
   "metadata": {},
   "source": [
    "### Création du dataframe"
   ]
  },
  {
   "cell_type": "code",
   "execution_count": 8,
   "id": "champion-farmer",
   "metadata": {},
   "outputs": [],
   "source": [
    "#  https://www.statology.org/add-column-pandas-dataframe/\n",
    "\n",
    "observations = pd.DataFrame({'id' : id_list, 'age' : age_list, 'n_foyer' : nfoyer_list, \n",
    "                             'lecture_journal' : lecture_list, 'parti' : politique_list, \n",
    "                             'revenu_mensuel' : revenu_list})"
   ]
  },
  {
   "cell_type": "code",
   "execution_count": 9,
   "id": "lined-hurricane",
   "metadata": {},
   "outputs": [
    {
     "name": "stdout",
     "output_type": "stream",
     "text": [
      "130\n"
     ]
    },
    {
     "data": {
      "text/html": [
       "<div>\n",
       "<style scoped>\n",
       "    .dataframe tbody tr th:only-of-type {\n",
       "        vertical-align: middle;\n",
       "    }\n",
       "\n",
       "    .dataframe tbody tr th {\n",
       "        vertical-align: top;\n",
       "    }\n",
       "\n",
       "    .dataframe thead th {\n",
       "        text-align: right;\n",
       "    }\n",
       "</style>\n",
       "<table border=\"1\" class=\"dataframe\">\n",
       "  <thead>\n",
       "    <tr style=\"text-align: right;\">\n",
       "      <th></th>\n",
       "      <th>id</th>\n",
       "      <th>age</th>\n",
       "      <th>n_foyer</th>\n",
       "      <th>lecture_journal</th>\n",
       "      <th>parti</th>\n",
       "      <th>revenu_mensuel</th>\n",
       "    </tr>\n",
       "  </thead>\n",
       "  <tbody>\n",
       "    <tr>\n",
       "      <th>0</th>\n",
       "      <td>1</td>\n",
       "      <td>67</td>\n",
       "      <td>3</td>\n",
       "      <td>de temps en temps</td>\n",
       "      <td>gauche</td>\n",
       "      <td>8111</td>\n",
       "    </tr>\n",
       "    <tr>\n",
       "      <th>1</th>\n",
       "      <td>2</td>\n",
       "      <td>63</td>\n",
       "      <td>5</td>\n",
       "      <td>tous les jours</td>\n",
       "      <td>gauche</td>\n",
       "      <td>8860</td>\n",
       "    </tr>\n",
       "    <tr>\n",
       "      <th>2</th>\n",
       "      <td>3</td>\n",
       "      <td>39</td>\n",
       "      <td>6</td>\n",
       "      <td>le week-end</td>\n",
       "      <td>écologiste</td>\n",
       "      <td>7030</td>\n",
       "    </tr>\n",
       "    <tr>\n",
       "      <th>3</th>\n",
       "      <td>4</td>\n",
       "      <td>68</td>\n",
       "      <td>3</td>\n",
       "      <td>de temps en temps</td>\n",
       "      <td>gauche</td>\n",
       "      <td>10834</td>\n",
       "    </tr>\n",
       "    <tr>\n",
       "      <th>4</th>\n",
       "      <td>5</td>\n",
       "      <td>62</td>\n",
       "      <td>7</td>\n",
       "      <td>tous les jours</td>\n",
       "      <td>droite</td>\n",
       "      <td>4229</td>\n",
       "    </tr>\n",
       "  </tbody>\n",
       "</table>\n",
       "</div>"
      ],
      "text/plain": [
       "   id  age  n_foyer    lecture_journal       parti  revenu_mensuel\n",
       "0   1   67        3  de temps en temps      gauche            8111\n",
       "1   2   63        5     tous les jours      gauche            8860\n",
       "2   3   39        6        le week-end  écologiste            7030\n",
       "3   4   68        3  de temps en temps      gauche           10834\n",
       "4   5   62        7     tous les jours      droite            4229"
      ]
     },
     "execution_count": 9,
     "metadata": {},
     "output_type": "execute_result"
    }
   ],
   "source": [
    "print(len(observations))\n",
    "observations.head()"
   ]
  },
  {
   "cell_type": "code",
   "execution_count": 10,
   "id": "supreme-failing",
   "metadata": {},
   "outputs": [
    {
     "data": {
      "text/html": [
       "<div>\n",
       "<style scoped>\n",
       "    .dataframe tbody tr th:only-of-type {\n",
       "        vertical-align: middle;\n",
       "    }\n",
       "\n",
       "    .dataframe tbody tr th {\n",
       "        vertical-align: top;\n",
       "    }\n",
       "\n",
       "    .dataframe thead th {\n",
       "        text-align: right;\n",
       "    }\n",
       "</style>\n",
       "<table border=\"1\" class=\"dataframe\">\n",
       "  <thead>\n",
       "    <tr style=\"text-align: right;\">\n",
       "      <th></th>\n",
       "      <th>age</th>\n",
       "      <th>n_foyer</th>\n",
       "      <th>lecture_journal</th>\n",
       "      <th>parti</th>\n",
       "      <th>revenu_mensuel</th>\n",
       "    </tr>\n",
       "    <tr>\n",
       "      <th>id</th>\n",
       "      <th></th>\n",
       "      <th></th>\n",
       "      <th></th>\n",
       "      <th></th>\n",
       "      <th></th>\n",
       "    </tr>\n",
       "  </thead>\n",
       "  <tbody>\n",
       "    <tr>\n",
       "      <th>1</th>\n",
       "      <td>67</td>\n",
       "      <td>3</td>\n",
       "      <td>de temps en temps</td>\n",
       "      <td>gauche</td>\n",
       "      <td>8111</td>\n",
       "    </tr>\n",
       "    <tr>\n",
       "      <th>2</th>\n",
       "      <td>63</td>\n",
       "      <td>5</td>\n",
       "      <td>tous les jours</td>\n",
       "      <td>gauche</td>\n",
       "      <td>8860</td>\n",
       "    </tr>\n",
       "    <tr>\n",
       "      <th>3</th>\n",
       "      <td>39</td>\n",
       "      <td>6</td>\n",
       "      <td>le week-end</td>\n",
       "      <td>écologiste</td>\n",
       "      <td>7030</td>\n",
       "    </tr>\n",
       "    <tr>\n",
       "      <th>4</th>\n",
       "      <td>68</td>\n",
       "      <td>3</td>\n",
       "      <td>de temps en temps</td>\n",
       "      <td>gauche</td>\n",
       "      <td>10834</td>\n",
       "    </tr>\n",
       "    <tr>\n",
       "      <th>5</th>\n",
       "      <td>62</td>\n",
       "      <td>7</td>\n",
       "      <td>tous les jours</td>\n",
       "      <td>droite</td>\n",
       "      <td>4229</td>\n",
       "    </tr>\n",
       "  </tbody>\n",
       "</table>\n",
       "</div>"
      ],
      "text/plain": [
       "    age  n_foyer    lecture_journal       parti  revenu_mensuel\n",
       "id                                                             \n",
       "1    67        3  de temps en temps      gauche            8111\n",
       "2    63        5     tous les jours      gauche            8860\n",
       "3    39        6        le week-end  écologiste            7030\n",
       "4    68        3  de temps en temps      gauche           10834\n",
       "5    62        7     tous les jours      droite            4229"
      ]
     },
     "execution_count": 10,
     "metadata": {},
     "output_type": "execute_result"
    }
   ],
   "source": [
    "observations.set_index('id', inplace=True)\n",
    "observations.head()"
   ]
  },
  {
   "cell_type": "code",
   "execution_count": 11,
   "id": "emerging-southeast",
   "metadata": {},
   "outputs": [],
   "source": [
    "### Ecrire le fichier sur le disque afin de le corriger manuellement\n",
    "\n",
    "path = 'data/observations.csv'\n",
    "observations.to_csv(path)"
   ]
  },
  {
   "cell_type": "code",
   "execution_count": null,
   "id": "demanding-device",
   "metadata": {},
   "outputs": [],
   "source": []
  },
  {
   "cell_type": "code",
   "execution_count": null,
   "id": "focal-despite",
   "metadata": {},
   "outputs": [],
   "source": []
  }
 ],
 "metadata": {
  "kernelspec": {
   "display_name": "Python [conda env:shn-pyshs]",
   "language": "python",
   "name": "conda-env-shn-pyshs-py"
  },
  "language_info": {
   "codemirror_mode": {
    "name": "ipython",
    "version": 3
   },
   "file_extension": ".py",
   "mimetype": "text/x-python",
   "name": "python",
   "nbconvert_exporter": "python",
   "pygments_lexer": "ipython3",
   "version": "3.9.10"
  }
 },
 "nbformat": 4,
 "nbformat_minor": 5
}
