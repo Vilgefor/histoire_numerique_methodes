{
 "cells": [
  {
   "cell_type": "markdown",
   "id": "a53748ae-63bf-43d0-a723-0fd199166ec9",
   "metadata": {
    "tags": []
   },
   "source": [
    "# Inspection des propriétés d'une population de 130 personnes\n",
    "\n",
    "Version du 11 avril 2022\n",
    "\n",
    "130 individus, cinq caractères: age, personnes dans le même foyer, fréquence de lecture du journal, orientation politique, revenu mensuel\n",
    "\n",
    "\n"
   ]
  },
  {
   "cell_type": "markdown",
   "id": "hungry-return",
   "metadata": {},
   "source": [
    "## Importer les librairies nécessaires"
   ]
  },
  {
   "cell_type": "code",
   "execution_count": 1,
   "id": "dense-sympathy",
   "metadata": {},
   "outputs": [],
   "source": [
    "import random\n",
    "import pandas as pd\n",
    "import matplotlib.pyplot as plt\n",
    "import numpy as np\n",
    "import seaborn as sns"
   ]
  },
  {
   "cell_type": "markdown",
   "id": "adapted-cooperation",
   "metadata": {},
   "source": [
    "## Références bibliographiques\n",
    "\n",
    "\n",
    "* Hamon : Hamon Philippe, Hamon Agnès, et Jégou Nicolas, _Statistique descriptive. Cours et exercices corrigés_, Rennes, PUR, 2008.\n",
    "* [Statistique descriptive unidimensionnelle](http://wikistat.fr/pdf/st-l-des-uni.pdf) (Site Wikistat)\n",
    "* Saly : Saly Pierre, _Méthodes statistiques descriptives pour les historiens_, Paris, A. Colin, 1991.\n",
    "* [Statology - Tutorials](https://www.statology.org/tutorials/)\n",
    "\n"
   ]
  },
  {
   "cell_type": "code",
   "execution_count": null,
   "id": "historic-cinema",
   "metadata": {},
   "outputs": [],
   "source": []
  },
  {
   "cell_type": "markdown",
   "id": "conventional-praise",
   "metadata": {},
   "source": [
    "## Explorer les observations\n",
    "\n",
    "* Regrouper et inspecter : la distribution\n",
    "* Afficher et analyser : les graphiques"
   ]
  },
  {
   "cell_type": "code",
   "execution_count": 2,
   "id": "liked-richards",
   "metadata": {},
   "outputs": [
    {
     "data": {
      "text/html": [
       "<div>\n",
       "<style scoped>\n",
       "    .dataframe tbody tr th:only-of-type {\n",
       "        vertical-align: middle;\n",
       "    }\n",
       "\n",
       "    .dataframe tbody tr th {\n",
       "        vertical-align: top;\n",
       "    }\n",
       "\n",
       "    .dataframe thead th {\n",
       "        text-align: right;\n",
       "    }\n",
       "</style>\n",
       "<table border=\"1\" class=\"dataframe\">\n",
       "  <thead>\n",
       "    <tr style=\"text-align: right;\">\n",
       "      <th></th>\n",
       "      <th>age</th>\n",
       "      <th>n_foyer</th>\n",
       "      <th>lecture_journal</th>\n",
       "      <th>parti</th>\n",
       "      <th>revenu_mensuel</th>\n",
       "    </tr>\n",
       "    <tr>\n",
       "      <th>id</th>\n",
       "      <th></th>\n",
       "      <th></th>\n",
       "      <th></th>\n",
       "      <th></th>\n",
       "      <th></th>\n",
       "    </tr>\n",
       "  </thead>\n",
       "  <tbody>\n",
       "    <tr>\n",
       "      <th>1</th>\n",
       "      <td>44</td>\n",
       "      <td>3</td>\n",
       "      <td>de temps en temps</td>\n",
       "      <td>droite</td>\n",
       "      <td>9660</td>\n",
       "    </tr>\n",
       "    <tr>\n",
       "      <th>2</th>\n",
       "      <td>45</td>\n",
       "      <td>1</td>\n",
       "      <td>tous les jours</td>\n",
       "      <td>droite</td>\n",
       "      <td>7364</td>\n",
       "    </tr>\n",
       "    <tr>\n",
       "      <th>3</th>\n",
       "      <td>54</td>\n",
       "      <td>3</td>\n",
       "      <td>de temps en temps</td>\n",
       "      <td>droite</td>\n",
       "      <td>8947</td>\n",
       "    </tr>\n",
       "    <tr>\n",
       "      <th>4</th>\n",
       "      <td>86</td>\n",
       "      <td>2</td>\n",
       "      <td>tous les jours</td>\n",
       "      <td>populiste</td>\n",
       "      <td>6317</td>\n",
       "    </tr>\n",
       "    <tr>\n",
       "      <th>5</th>\n",
       "      <td>77</td>\n",
       "      <td>2</td>\n",
       "      <td>tous les jours</td>\n",
       "      <td>gauche</td>\n",
       "      <td>6511</td>\n",
       "    </tr>\n",
       "  </tbody>\n",
       "</table>\n",
       "</div>"
      ],
      "text/plain": [
       "    age  n_foyer    lecture_journal      parti  revenu_mensuel\n",
       "id                                                            \n",
       "1    44        3  de temps en temps     droite            9660\n",
       "2    45        1     tous les jours     droite            7364\n",
       "3    54        3  de temps en temps     droite            8947\n",
       "4    86        2     tous les jours  populiste            6317\n",
       "5    77        2     tous les jours     gauche            6511"
      ]
     },
     "execution_count": 2,
     "metadata": {},
     "output_type": "execute_result"
    }
   ],
   "source": [
    "### Lire le fichier corrigé manuellement – ne pas effacer !\n",
    "\n",
    "path = 'data/observations_mod.csv'\n",
    "\n",
    "observations_mod = pd.read_csv(path)\n",
    "observations_mod.set_index('id', inplace=True)\n",
    "observations_mod.head()"
   ]
  },
  {
   "cell_type": "code",
   "execution_count": 3,
   "id": "877d0f67-b9fc-4c1e-b942-ce4c060f27c6",
   "metadata": {},
   "outputs": [
    {
     "data": {
      "text/plain": [
       "(130, 5)"
      ]
     },
     "execution_count": 3,
     "metadata": {},
     "output_type": "execute_result"
    }
   ],
   "source": [
    "## Nombre de lignes et de colonnes du tableau\n",
    "observations_mod.shape"
   ]
  },
  {
   "cell_type": "code",
   "execution_count": 4,
   "id": "incredible-incident",
   "metadata": {},
   "outputs": [
    {
     "data": {
      "text/plain": [
       "130"
      ]
     },
     "execution_count": 4,
     "metadata": {},
     "output_type": "execute_result"
    }
   ],
   "source": [
    "### Nombre de lignes du tableau\n",
    "obs = observations_mod\n",
    "#obs = observations # 900\n",
    "len(obs)"
   ]
  },
  {
   "cell_type": "markdown",
   "id": "9705d30d-1d6f-4801-9c31-786e7fd52fa0",
   "metadata": {
    "tags": []
   },
   "source": [
    "### Afficher et inspecter les données: âge"
   ]
  },
  {
   "cell_type": "code",
   "execution_count": 6,
   "id": "8bd5fb7e-1cba-4dbd-9ee9-81d1d1234d75",
   "metadata": {},
   "outputs": [
    {
     "data": {
      "text/plain": [
       "(pandas.core.series.Series,\n",
       " id\n",
       " 1    44\n",
       " 2    45\n",
       " 3    54\n",
       " 4    86\n",
       " 5    77\n",
       " Name: age, dtype: int64)"
      ]
     },
     "execution_count": 6,
     "metadata": {},
     "output_type": "execute_result"
    }
   ],
   "source": [
    "### On crée un variable qui contient seulement la colonne\n",
    "#  c'est-à-dire la pandas.Series, la série ou liste de données 'âge'\n",
    "age = obs['age']\n",
    "type(age), age.head()"
   ]
  },
  {
   "cell_type": "code",
   "execution_count": 7,
   "id": "b475c732-fb96-453a-9b59-450b1fcb0b08",
   "metadata": {},
   "outputs": [
    {
     "data": {
      "text/plain": [
       "<AxesSubplot:xlabel='id'>"
      ]
     },
     "execution_count": 7,
     "metadata": {},
     "output_type": "execute_result"
    },
    {
     "data": {
      "image/png": "[encoded data removed]",
      "text/plain": [
       "<Figure size 1440x504 with 1 Axes>"
      ]
     },
     "metadata": {
      "needs_background": "light"
     },
     "output_type": "display_data"
    }
   ],
   "source": [
    "### Représentation en mode ligne à éviter dans ce cas:\n",
    "#  des surfaces sans sens\n",
    "age.plot(figsize=(20,7))"
   ]
  },
  {
   "cell_type": "code",
   "execution_count": 8,
   "id": "41457e91-057d-4187-8031-f7d75249f79e",
   "metadata": {},
   "outputs": [
    {
     "data": {
      "text/plain": [
       "<AxesSubplot:xlabel='id'>"
      ]
     },
     "execution_count": 8,
     "metadata": {},
     "output_type": "execute_result"
    },
    {
     "data": {
      "image/png": "[encoded data removed]",
      "text/plain": [
       "<Figure size 1440x504 with 1 Axes>"
      ]
     },
     "metadata": {
      "needs_background": "light"
     },
     "output_type": "display_data"
    }
   ],
   "source": [
    "### Les individus en abscisses avec leur age en ordonnées:\n",
    "#  type de représentation à éviter dans ce cas\n",
    "age.plot(style='.',figsize=(20,7))"
   ]
  },
  {
   "cell_type": "code",
   "execution_count": 9,
   "id": "04eb74b1-3b68-4cc6-a7a9-73850c8a92b2",
   "metadata": {},
   "outputs": [
    {
     "data": {
      "image/png": "[encoded data removed]",
      "text/plain": [
       "<Figure size 1800x504 with 1 Axes>"
      ]
     },
     "metadata": {
      "needs_background": "light"
     },
     "output_type": "display_data"
    }
   ],
   "source": [
    "### AVec le diagramme à barres on a une 'image' plus parlante\n",
    "# de l'age des individus mais illisible sans tri — il s'agira donc de trier\n",
    "ax = age.plot.bar(x='lab', y='val', rot=70, figsize=(25,7))\n",
    "ax.tick_params(axis = 'x', labelsize = 8)"
   ]
  },
  {
   "cell_type": "code",
   "execution_count": 20,
   "id": "still-budapest",
   "metadata": {},
   "outputs": [
    {
     "data": {
      "text/plain": [
       "id\n",
       "37    18\n",
       "25    19\n",
       "15    19\n",
       "13    19\n",
       "58    19\n",
       "Name: age, dtype: int64"
      ]
     },
     "execution_count": 20,
     "metadata": {},
     "output_type": "execute_result"
    }
   ],
   "source": [
    "### Tri ascendant des valeurs\n",
    "#  Pour le tri déscendant, \n",
    "#  mettre en argument de la fonction sort_values: ascending=False\n",
    "s_age = age.sort_values() \n",
    "s_age.head()"
   ]
  },
  {
   "cell_type": "code",
   "execution_count": 22,
   "id": "e3d588d9-9a62-488a-be2f-7516cc354891",
   "metadata": {
    "tags": []
   },
   "outputs": [
    {
     "data": {
      "image/png": "[encoded data removed]",
      "text/plain": [
       "<Figure size 1800x504 with 1 Axes>"
      ]
     },
     "metadata": {
      "needs_background": "light"
     },
     "output_type": "display_data"
    }
   ],
   "source": [
    "### Cette visualisation donne une impression de la croissance des âges\n",
    "x = s_age.plot.bar(x='lab', y='val', rot=70, figsize=(25,7))\n",
    "ax.tick_params(axis = 'x', labelsize = 8)"
   ]
  },
  {
   "cell_type": "markdown",
   "id": "d152d74d-6f9c-46ff-93e6-572a63b92d9f",
   "metadata": {},
   "source": [
    "### Effectifs par valeur\n",
    "\n",
    "Âge est traité comme variable quantitative discrète. C'est un cas limite car, étant donné la quantité de valeurs différentes, on pourrait aussi établir des classes et traiter l'âge comme variable quantitative continue.\n",
    "\n",
    "À noter également que renseigner l'âge en années revient à créer des classes, les années en tant que classes, car l'âge peut aussi être mesurée en jours, ce qui est plus précis mais généralement moins significatif, du moins pour les humains.\n",
    "\n"
   ]
  },
  {
   "cell_type": "code",
   "execution_count": 28,
   "id": "4d669456-399d-4de2-9dad-c9c629f92252",
   "metadata": {},
   "outputs": [
    {
     "name": "stdout",
     "output_type": "stream",
     "text": [
      "<class 'pandas.core.series.Series'>\n"
     ]
    },
    {
     "data": {
      "text/plain": [
       "age\n",
       "18    1\n",
       "19    4\n",
       "20    2\n",
       "21    4\n",
       "22    1\n",
       "Name: age, dtype: int64"
      ]
     },
     "execution_count": 28,
     "metadata": {},
     "output_type": "execute_result"
    }
   ],
   "source": [
    "### Regrouper par âge et compter les individus par valeur\n",
    "cs_age = s_age.groupby(s_age).count()\n",
    "print(type(cs_age))\n",
    "cs_age.head()"
   ]
  },
  {
   "cell_type": "code",
   "execution_count": 30,
   "id": "6cac74f6-4e1d-4063-878d-0753e1c0f634",
   "metadata": {},
   "outputs": [
    {
     "name": "stdout",
     "output_type": "stream",
     "text": [
      "<class 'pandas.core.frame.DataFrame'>\n"
     ]
    },
    {
     "data": {
      "text/html": [
       "<div>\n",
       "<style scoped>\n",
       "    .dataframe tbody tr th:only-of-type {\n",
       "        vertical-align: middle;\n",
       "    }\n",
       "\n",
       "    .dataframe tbody tr th {\n",
       "        vertical-align: top;\n",
       "    }\n",
       "\n",
       "    .dataframe thead th {\n",
       "        text-align: right;\n",
       "    }\n",
       "</style>\n",
       "<table border=\"1\" class=\"dataframe\">\n",
       "  <thead>\n",
       "    <tr style=\"text-align: right;\">\n",
       "      <th></th>\n",
       "      <th>age</th>\n",
       "    </tr>\n",
       "    <tr>\n",
       "      <th>age</th>\n",
       "      <th></th>\n",
       "    </tr>\n",
       "  </thead>\n",
       "  <tbody>\n",
       "    <tr>\n",
       "      <th>18</th>\n",
       "      <td>1</td>\n",
       "    </tr>\n",
       "    <tr>\n",
       "      <th>19</th>\n",
       "      <td>4</td>\n",
       "    </tr>\n",
       "    <tr>\n",
       "      <th>20</th>\n",
       "      <td>2</td>\n",
       "    </tr>\n",
       "    <tr>\n",
       "      <th>21</th>\n",
       "      <td>4</td>\n",
       "    </tr>\n",
       "    <tr>\n",
       "      <th>22</th>\n",
       "      <td>1</td>\n",
       "    </tr>\n",
       "  </tbody>\n",
       "</table>\n",
       "</div>"
      ],
      "text/plain": [
       "     age\n",
       "age     \n",
       "18     1\n",
       "19     4\n",
       "20     2\n",
       "21     4\n",
       "22     1"
      ]
     },
     "execution_count": 30,
     "metadata": {},
     "output_type": "execute_result"
    }
   ],
   "source": [
    "### Transformer la serie en dataFram\n",
    "df_cs_age = pd.DataFrame(cs_age)\n",
    "print(type(df_cs_age))\n",
    "df_cs_age.head()"
   ]
  },
  {
   "cell_type": "code",
   "execution_count": 31,
   "id": "f64a827c-a721-4552-a6c2-1c028d4cc113",
   "metadata": {},
   "outputs": [
    {
     "data": {
      "text/plain": [
       "(     effectif\n",
       " age          \n",
       " 18          1\n",
       " 19          4\n",
       " 20          2\n",
       " 21          4\n",
       " 22          1,\n",
       " Int64Index([18, 19, 20, 21, 22], dtype='int64', name='age'))"
      ]
     },
     "execution_count": 31,
     "metadata": {},
     "output_type": "execute_result"
    }
   ],
   "source": [
    "### Renommer la colonne\n",
    "df_cs_age.columns=['effectif']\n",
    "df_cs_age.head(), df_cs_age.index[:5]"
   ]
  },
  {
   "cell_type": "code",
   "execution_count": 32,
   "id": "9856dc71-f988-4be9-b21d-17f3c1c9ac3d",
   "metadata": {},
   "outputs": [
    {
     "data": {
      "text/html": [
       "<div>\n",
       "<style scoped>\n",
       "    .dataframe tbody tr th:only-of-type {\n",
       "        vertical-align: middle;\n",
       "    }\n",
       "\n",
       "    .dataframe tbody tr th {\n",
       "        vertical-align: top;\n",
       "    }\n",
       "\n",
       "    .dataframe thead th {\n",
       "        text-align: right;\n",
       "    }\n",
       "</style>\n",
       "<table border=\"1\" class=\"dataframe\">\n",
       "  <thead>\n",
       "    <tr style=\"text-align: right;\">\n",
       "      <th></th>\n",
       "      <th>effectif</th>\n",
       "      <th>effectif_cumule</th>\n",
       "    </tr>\n",
       "    <tr>\n",
       "      <th>age</th>\n",
       "      <th></th>\n",
       "      <th></th>\n",
       "    </tr>\n",
       "  </thead>\n",
       "  <tbody>\n",
       "    <tr>\n",
       "      <th>18</th>\n",
       "      <td>1</td>\n",
       "      <td>1</td>\n",
       "    </tr>\n",
       "    <tr>\n",
       "      <th>19</th>\n",
       "      <td>4</td>\n",
       "      <td>5</td>\n",
       "    </tr>\n",
       "    <tr>\n",
       "      <th>20</th>\n",
       "      <td>2</td>\n",
       "      <td>7</td>\n",
       "    </tr>\n",
       "    <tr>\n",
       "      <th>21</th>\n",
       "      <td>4</td>\n",
       "      <td>11</td>\n",
       "    </tr>\n",
       "    <tr>\n",
       "      <th>22</th>\n",
       "      <td>1</td>\n",
       "      <td>12</td>\n",
       "    </tr>\n",
       "  </tbody>\n",
       "</table>\n",
       "</div>"
      ],
      "text/plain": [
       "     effectif  effectif_cumule\n",
       "age                           \n",
       "18          1                1\n",
       "19          4                5\n",
       "20          2                7\n",
       "21          4               11\n",
       "22          1               12"
      ]
     },
     "execution_count": 32,
     "metadata": {},
     "output_type": "execute_result"
    }
   ],
   "source": [
    "### Ajouter les effectifs cumulés\n",
    "df_cs_age['effectif_cumule'] = df_cs_age['effectif'].cumsum()\n",
    "df_cs_age.head()"
   ]
  },
  {
   "cell_type": "markdown",
   "id": "afb1ba53-1826-4910-adc8-eef602ef138b",
   "metadata": {},
   "source": [
    "### Fréquence et fréquence cumulée"
   ]
  },
  {
   "cell_type": "code",
   "execution_count": 34,
   "id": "c9efa6df-721f-476f-8166-bf2a700318b7",
   "metadata": {},
   "outputs": [
    {
     "data": {
      "text/html": [
       "<div>\n",
       "<style scoped>\n",
       "    .dataframe tbody tr th:only-of-type {\n",
       "        vertical-align: middle;\n",
       "    }\n",
       "\n",
       "    .dataframe tbody tr th {\n",
       "        vertical-align: top;\n",
       "    }\n",
       "\n",
       "    .dataframe thead th {\n",
       "        text-align: right;\n",
       "    }\n",
       "</style>\n",
       "<table border=\"1\" class=\"dataframe\">\n",
       "  <thead>\n",
       "    <tr style=\"text-align: right;\">\n",
       "      <th></th>\n",
       "      <th>effectif</th>\n",
       "      <th>effectif_cumule</th>\n",
       "      <th>frequence</th>\n",
       "    </tr>\n",
       "    <tr>\n",
       "      <th>age</th>\n",
       "      <th></th>\n",
       "      <th></th>\n",
       "      <th></th>\n",
       "    </tr>\n",
       "  </thead>\n",
       "  <tbody>\n",
       "    <tr>\n",
       "      <th>18</th>\n",
       "      <td>1</td>\n",
       "      <td>1</td>\n",
       "      <td>0.77</td>\n",
       "    </tr>\n",
       "    <tr>\n",
       "      <th>19</th>\n",
       "      <td>4</td>\n",
       "      <td>5</td>\n",
       "      <td>3.08</td>\n",
       "    </tr>\n",
       "    <tr>\n",
       "      <th>20</th>\n",
       "      <td>2</td>\n",
       "      <td>7</td>\n",
       "      <td>1.54</td>\n",
       "    </tr>\n",
       "    <tr>\n",
       "      <th>21</th>\n",
       "      <td>4</td>\n",
       "      <td>11</td>\n",
       "      <td>3.08</td>\n",
       "    </tr>\n",
       "    <tr>\n",
       "      <th>22</th>\n",
       "      <td>1</td>\n",
       "      <td>12</td>\n",
       "      <td>0.77</td>\n",
       "    </tr>\n",
       "  </tbody>\n",
       "</table>\n",
       "</div>"
      ],
      "text/plain": [
       "     effectif  effectif_cumule  frequence\n",
       "age                                      \n",
       "18          1                1       0.77\n",
       "19          4                5       3.08\n",
       "20          2                7       1.54\n",
       "21          4               11       3.08\n",
       "22          1               12       0.77"
      ]
     },
     "execution_count": 34,
     "metadata": {},
     "output_type": "execute_result"
    }
   ],
   "source": [
    "### Calculer et ajouter la fréquence\n",
    "#  en tant que proportion entre l'effectif de la valeur et l'effectif total\n",
    "\n",
    "df_cs_age['frequence'] = (100 * df_cs_age['effectif'] \\\n",
    "                                   / df_cs_age['effectif'].sum()).round(2)\n",
    "df_cs_age.head()"
   ]
  },
  {
   "cell_type": "code",
   "execution_count": 36,
   "id": "5dea3cb8-7ac7-47c8-9d0f-11412fee3ed3",
   "metadata": {},
   "outputs": [
    {
     "data": {
      "text/html": [
       "<div>\n",
       "<style scoped>\n",
       "    .dataframe tbody tr th:only-of-type {\n",
       "        vertical-align: middle;\n",
       "    }\n",
       "\n",
       "    .dataframe tbody tr th {\n",
       "        vertical-align: top;\n",
       "    }\n",
       "\n",
       "    .dataframe thead th {\n",
       "        text-align: right;\n",
       "    }\n",
       "</style>\n",
       "<table border=\"1\" class=\"dataframe\">\n",
       "  <thead>\n",
       "    <tr style=\"text-align: right;\">\n",
       "      <th></th>\n",
       "      <th>effectif</th>\n",
       "      <th>effectif_cumule</th>\n",
       "      <th>frequence</th>\n",
       "      <th>frequence_cumulee</th>\n",
       "    </tr>\n",
       "    <tr>\n",
       "      <th>age</th>\n",
       "      <th></th>\n",
       "      <th></th>\n",
       "      <th></th>\n",
       "      <th></th>\n",
       "    </tr>\n",
       "  </thead>\n",
       "  <tbody>\n",
       "    <tr>\n",
       "      <th>18</th>\n",
       "      <td>1</td>\n",
       "      <td>1</td>\n",
       "      <td>0.77</td>\n",
       "      <td>0.77</td>\n",
       "    </tr>\n",
       "    <tr>\n",
       "      <th>19</th>\n",
       "      <td>4</td>\n",
       "      <td>5</td>\n",
       "      <td>3.08</td>\n",
       "      <td>3.85</td>\n",
       "    </tr>\n",
       "    <tr>\n",
       "      <th>20</th>\n",
       "      <td>2</td>\n",
       "      <td>7</td>\n",
       "      <td>1.54</td>\n",
       "      <td>5.38</td>\n",
       "    </tr>\n",
       "    <tr>\n",
       "      <th>21</th>\n",
       "      <td>4</td>\n",
       "      <td>11</td>\n",
       "      <td>3.08</td>\n",
       "      <td>8.46</td>\n",
       "    </tr>\n",
       "    <tr>\n",
       "      <th>22</th>\n",
       "      <td>1</td>\n",
       "      <td>12</td>\n",
       "      <td>0.77</td>\n",
       "      <td>9.23</td>\n",
       "    </tr>\n",
       "  </tbody>\n",
       "</table>\n",
       "</div>"
      ],
      "text/plain": [
       "     effectif  effectif_cumule  frequence  frequence_cumulee\n",
       "age                                                         \n",
       "18          1                1       0.77               0.77\n",
       "19          4                5       3.08               3.85\n",
       "20          2                7       1.54               5.38\n",
       "21          4               11       3.08               8.46\n",
       "22          1               12       0.77               9.23"
      ]
     },
     "execution_count": 36,
     "metadata": {},
     "output_type": "execute_result"
    }
   ],
   "source": [
    "### Ajouter la fréquence cumulée\n",
    "df_cs_age['frequence_cumulee'] = (100 * df_cs_age['effectif_cumule'] \\\n",
    "                                / df_cs_age['effectif'].sum()).round(2)\n",
    "df_cs_age.head()"
   ]
  },
  {
   "cell_type": "markdown",
   "id": "536acba2-8435-46ed-8116-aa4c77e6153d",
   "metadata": {},
   "source": [
    "### Représentations graphiques"
   ]
  },
  {
   "cell_type": "code",
   "execution_count": 37,
   "id": "8ff7c335-3c9a-49fa-838c-cecd33019bd9",
   "metadata": {},
   "outputs": [
    {
     "data": {
      "image/png": "[encoded data removed]",
      "text/plain": [
       "<Figure size 1152x576 with 1 Axes>"
      ]
     },
     "metadata": {
      "needs_background": "light"
     },
     "output_type": "display_data"
    }
   ],
   "source": [
    "# Distribution des effectifs par age\n",
    "\n",
    "objects = df_cs_age.index\n",
    "eff = df_cs_age['effectif']\n",
    "\n",
    "p1 = plt.bar(objects, eff, width=0.4)\n",
    "\n",
    "#plt.xticks(l5Years)\n",
    "plt.ylabel('Effectif')\n",
    "plt.title('Effectif par age')\n",
    "plt.gcf().set_size_inches(16, 8)\n",
    "#plt.gca().axes.get_xaxis().set_visible(False)\n",
    "# supported formats: eps, pdf, pgf, png, ps, raw, rgba, svg, svgz\n",
    "#plt.savefig('exported_pictures/effectifs_naissances_par_annee.png', dpi=100, bbox_inches = \"tight\") #pdf, svg\n",
    "plt.xticks(rotation=45)\n",
    "plt.show()\n"
   ]
  },
  {
   "cell_type": "code",
   "execution_count": 39,
   "id": "88cbe3a5-4eed-4e28-8eb8-c59a7d0fb826",
   "metadata": {},
   "outputs": [
    {
     "data": {
      "image/png": "[encoded data removed]",
      "text/plain": [
       "<Figure size 1152x576 with 1 Axes>"
      ]
     },
     "metadata": {
      "needs_background": "light"
     },
     "output_type": "display_data"
    }
   ],
   "source": [
    "# Effectifs cumulés par âge\n",
    "\n",
    "objects = df_cs_age.index\n",
    "#eff = df_cs_age['effectif_cumule']\n",
    "eff = df_cs_age['frequence_cumulee']\n",
    "\n",
    "\n",
    "\n",
    "p1 = plt.bar(objects, eff, width=0.3)\n",
    "\n",
    "#plt.xticks(l5Years)\n",
    "plt.ylabel('Effectif')\n",
    "plt.xlabel('Âge')\n",
    "plt.title('Effectif par âge')\n",
    "plt.gcf().set_size_inches(16, 8)\n",
    "#plt.gca().axes.get_xaxis().set_visible(False)\n",
    "# supported formats: eps, pdf, pgf, png, ps, raw, rgba, svg, svgz\n",
    "#plt.savefig('exported_pictures/effectifs_naissances_par_annee.png', dpi=100, bbox_inches = \"tight\") #pdf, svg\n",
    "plt.xticks(rotation=45)\n",
    "plt.show()\n"
   ]
  },
  {
   "cell_type": "code",
   "execution_count": 41,
   "id": "6fca31ad-e327-43a8-9df4-391c2fd13bbf",
   "metadata": {},
   "outputs": [
    {
     "data": {
      "image/png": "[encoded data removed]",
      "text/plain": [
       "<Figure size 1440x504 with 1 Axes>"
      ]
     },
     "metadata": {
      "needs_background": "light"
     },
     "output_type": "display_data"
    }
   ],
   "source": [
    "### Diagramme cumulatif : fréquences cumulées\n",
    "#  On observe que la médiane est autour de 45 ans,\n",
    "#  i.e. que la moitié de la population a moins de 45 ans, le reste plus \n",
    "plt.ylabel('Fréquence')\n",
    "df_cs_age['frequence_cumulee'].plot(figsize=(20,7), drawstyle='steps') #  style='o--',\n",
    "plt.draw()"
   ]
  },
  {
   "cell_type": "code",
   "execution_count": 46,
   "id": "5dff798c-5249-4196-8410-1a014a8f68c5",
   "metadata": {},
   "outputs": [
    {
     "data": {
      "image/png": "[encoded data removed]",
      "text/plain": [
       "<Figure size 1440x576 with 1 Axes>"
      ]
     },
     "metadata": {
      "needs_background": "light"
     },
     "output_type": "display_data"
    }
   ],
   "source": [
    "### Deux représentations graphiques différentes pour la même croissance\n",
    "# Documentation\n",
    "#   https://matplotlib.org/stable/gallery/lines_bars_and_markers/step_demo.html#sphx-glr-gallery-lines-bars-and-markers-step-demo-py\n",
    "x = df_cs_age.index\n",
    "y = df_cs_age['frequence_cumulee']\n",
    "fig = plt.figure(figsize=[20,8])\n",
    "### Commenter l'une des deux lignes suivantes pour voire la différence\n",
    "plt.step(x, y, label='pre (default)')\n",
    "plt.plot(x, y, 'o--', color='grey', alpha=0.3)\n",
    "plt.show()"
   ]
  },
  {
   "cell_type": "code",
   "execution_count": null,
   "id": "b90301af-0a82-4853-a151-bfc063f9494b",
   "metadata": {},
   "outputs": [],
   "source": []
  },
  {
   "cell_type": "code",
   "execution_count": null,
   "id": "b79fa05c-0ffe-425a-9d96-bc3cea1e3bcc",
   "metadata": {},
   "outputs": [],
   "source": []
  },
  {
   "cell_type": "markdown",
   "id": "40cc547b-2c3d-41a9-baae-23038fa699c9",
   "metadata": {
    "tags": []
   },
   "source": [
    "## Paramètres de centralité et de dispersion"
   ]
  },
  {
   "cell_type": "code",
   "execution_count": 47,
   "id": "3284b7ce-76b9-4fad-985d-7c961df28166",
   "metadata": {},
   "outputs": [
    {
     "data": {
      "text/plain": [
       "count    130.000000\n",
       "mean      49.553846\n",
       "std       20.757015\n",
       "min       18.000000\n",
       "25%       31.000000\n",
       "50%       45.000000\n",
       "75%       68.000000\n",
       "max       90.000000\n",
       "Name: age, dtype: float64"
      ]
     },
     "execution_count": 47,
     "metadata": {},
     "output_type": "execute_result"
    }
   ],
   "source": [
    "### Cette méthode d'une série fournit les caractéristiques\n",
    "#  de tendance centrale et de dispersion\n",
    "age.describe()"
   ]
  },
  {
   "cell_type": "code",
   "execution_count": 24,
   "id": "037e44a9-aee0-4bfb-98c5-9fdcd5334e66",
   "metadata": {},
   "outputs": [
    {
     "data": {
      "text/plain": [
       "74"
      ]
     },
     "execution_count": 24,
     "metadata": {},
     "output_type": "execute_result"
    }
   ],
   "source": [
    "### La valeur la plus fréquente\n",
    "age.mode()[0]"
   ]
  },
  {
   "cell_type": "code",
   "execution_count": 48,
   "id": "b0864ecb-6bae-4cd5-bb64-b6a05831d776",
   "metadata": {},
   "outputs": [
    {
     "data": {
      "text/plain": [
       "6"
      ]
     },
     "execution_count": 48,
     "metadata": {},
     "output_type": "execute_result"
    }
   ],
   "source": [
    "### Quel effectif a-t-ele ?\n",
    "len(age[age == 74])"
   ]
  },
  {
   "cell_type": "code",
   "execution_count": 49,
   "id": "bd09dd61-f8bd-4dae-8f40-e73379e323ee",
   "metadata": {},
   "outputs": [
    {
     "data": {
      "text/plain": [
       "<AxesSubplot:>"
      ]
     },
     "execution_count": 49,
     "metadata": {},
     "output_type": "execute_result"
    },
    {
     "data": {
      "image/png": "[encoded data removed]",
      "text/plain": [
       "<Figure size 1152x288 with 1 Axes>"
      ]
     },
     "metadata": {
      "needs_background": "light"
     },
     "output_type": "display_data"
    }
   ],
   "source": [
    "### Diagramme-boîte ou boîte-à-moustache pour représenter la dispersion\n",
    "# Ligne centrale = la médiane. Le box est entre 1er et 3e quartile\n",
    "# La moitié de la population se situe entre 31 et 68 ans\n",
    "#  Noter qu'on utilise le DataFrame car cet objet dispose d'une méthode boxplot\n",
    "# ce qui n'est pas le cas d'une série (pd.Series)\n",
    "obs.boxplot(column=['age'], vert=False, figsize=(16,4))"
   ]
  },
  {
   "cell_type": "code",
   "execution_count": 50,
   "id": "db40ed74-5e99-4627-a592-4fae4051991c",
   "metadata": {},
   "outputs": [
    {
     "data": {
      "text/plain": [
       "(18.0, 90.0)"
      ]
     },
     "execution_count": 50,
     "metadata": {},
     "output_type": "execute_result"
    },
    {
     "data": {
      "image/png": "[encoded data removed]",
      "text/plain": [
       "<Figure size 2160x576 with 1 Axes>"
      ]
     },
     "metadata": {},
     "output_type": "display_data"
    }
   ],
   "source": [
    "### Violinplot : rend visible la différente densité de la distribution\n",
    "# https://mode.com/blog/violin-plot-examples/\n",
    "\n",
    "sns.set_theme(style=\"whitegrid\")\n",
    "\n",
    "sns.set(rc={\"figure.figsize\":(30, 8)})\n",
    "\n",
    "a = obs[\"age\"]\n",
    "\n",
    "ax = sns.violinplot(x=a)\n",
    "\n",
    "### Noter que au delà des limites les valeurs sont postulées\n",
    "ax.set_xlim(left=min(a), right=max(a))\n",
    "\n"
   ]
  },
  {
   "cell_type": "markdown",
   "id": "0aed8cb6-77cd-4694-bd9f-e5383911fd6b",
   "metadata": {},
   "source": [
    "### Histogramme"
   ]
  },
  {
   "cell_type": "code",
   "execution_count": 58,
   "id": "12f2be8a-6e0c-4a36-a3ac-4ceb87dd0f20",
   "metadata": {},
   "outputs": [
    {
     "data": {
      "text/html": [
       "<div>\n",
       "<style scoped>\n",
       "    .dataframe tbody tr th:only-of-type {\n",
       "        vertical-align: middle;\n",
       "    }\n",
       "\n",
       "    .dataframe tbody tr th {\n",
       "        vertical-align: top;\n",
       "    }\n",
       "\n",
       "    .dataframe thead th {\n",
       "        text-align: right;\n",
       "    }\n",
       "</style>\n",
       "<table border=\"1\" class=\"dataframe\">\n",
       "  <thead>\n",
       "    <tr style=\"text-align: right;\">\n",
       "      <th></th>\n",
       "      <th>age</th>\n",
       "      <th>n_foyer</th>\n",
       "      <th>lecture_journal</th>\n",
       "      <th>parti</th>\n",
       "      <th>revenu_mensuel</th>\n",
       "      <th>generation</th>\n",
       "    </tr>\n",
       "    <tr>\n",
       "      <th>id</th>\n",
       "      <th></th>\n",
       "      <th></th>\n",
       "      <th></th>\n",
       "      <th></th>\n",
       "      <th></th>\n",
       "      <th></th>\n",
       "    </tr>\n",
       "  </thead>\n",
       "  <tbody>\n",
       "    <tr>\n",
       "      <th>1</th>\n",
       "      <td>44</td>\n",
       "      <td>3</td>\n",
       "      <td>de temps en temps</td>\n",
       "      <td>droite</td>\n",
       "      <td>9660</td>\n",
       "      <td>[36, 46)</td>\n",
       "    </tr>\n",
       "    <tr>\n",
       "      <th>2</th>\n",
       "      <td>45</td>\n",
       "      <td>1</td>\n",
       "      <td>tous les jours</td>\n",
       "      <td>droite</td>\n",
       "      <td>7364</td>\n",
       "      <td>[36, 46)</td>\n",
       "    </tr>\n",
       "    <tr>\n",
       "      <th>3</th>\n",
       "      <td>54</td>\n",
       "      <td>3</td>\n",
       "      <td>de temps en temps</td>\n",
       "      <td>droite</td>\n",
       "      <td>8947</td>\n",
       "      <td>[46, 56)</td>\n",
       "    </tr>\n",
       "    <tr>\n",
       "      <th>4</th>\n",
       "      <td>86</td>\n",
       "      <td>2</td>\n",
       "      <td>tous les jours</td>\n",
       "      <td>populiste</td>\n",
       "      <td>6317</td>\n",
       "      <td>[66, 91)</td>\n",
       "    </tr>\n",
       "    <tr>\n",
       "      <th>5</th>\n",
       "      <td>77</td>\n",
       "      <td>2</td>\n",
       "      <td>tous les jours</td>\n",
       "      <td>gauche</td>\n",
       "      <td>6511</td>\n",
       "      <td>[66, 91)</td>\n",
       "    </tr>\n",
       "  </tbody>\n",
       "</table>\n",
       "</div>"
      ],
      "text/plain": [
       "    age  n_foyer    lecture_journal      parti  revenu_mensuel generation\n",
       "id                                                                       \n",
       "1    44        3  de temps en temps     droite            9660   [36, 46)\n",
       "2    45        1     tous les jours     droite            7364   [36, 46)\n",
       "3    54        3  de temps en temps     droite            8947   [46, 56)\n",
       "4    86        2     tous les jours  populiste            6317   [66, 91)\n",
       "5    77        2     tous les jours     gauche            6511   [66, 91)"
      ]
     },
     "execution_count": 58,
     "metadata": {},
     "output_type": "execute_result"
    }
   ],
   "source": [
    "### Créer une copie indépendante du DataFrame (attention aux copies de variables qui sont seulement des alias) \n",
    "# et coder les années de naissance en relation avec un découpage significatif au point de vue heuristique, et modifiable si besion\n",
    "## fonction pd.cut : https://pandas.pydata.org/pandas-docs/stable/reference/api/pandas.cut.html\n",
    "\n",
    "generations = [18, 26, 36, 46, 56, 66, 91]\n",
    "c_obs = obs.copy(deep=True)\n",
    "c_obs['generation'] = pd.cut(c_obs['age'], generations, right=False)\n",
    "# Inspection\n",
    "c_obs.head()"
   ]
  },
  {
   "cell_type": "code",
   "execution_count": 59,
   "id": "a8d5c9eb-792d-42cd-b6f7-f063e058434c",
   "metadata": {},
   "outputs": [
    {
     "data": {
      "text/html": [
       "<div>\n",
       "<style scoped>\n",
       "    .dataframe tbody tr th:only-of-type {\n",
       "        vertical-align: middle;\n",
       "    }\n",
       "\n",
       "    .dataframe tbody tr th {\n",
       "        vertical-align: top;\n",
       "    }\n",
       "\n",
       "    .dataframe thead th {\n",
       "        text-align: right;\n",
       "    }\n",
       "</style>\n",
       "<table border=\"1\" class=\"dataframe\">\n",
       "  <thead>\n",
       "    <tr style=\"text-align: right;\">\n",
       "      <th></th>\n",
       "      <th>age</th>\n",
       "      <th>n_foyer</th>\n",
       "      <th>lecture_journal</th>\n",
       "      <th>parti</th>\n",
       "      <th>revenu_mensuel</th>\n",
       "      <th>generation</th>\n",
       "    </tr>\n",
       "    <tr>\n",
       "      <th>id</th>\n",
       "      <th></th>\n",
       "      <th></th>\n",
       "      <th></th>\n",
       "      <th></th>\n",
       "      <th></th>\n",
       "      <th></th>\n",
       "    </tr>\n",
       "  </thead>\n",
       "  <tbody>\n",
       "    <tr>\n",
       "      <th>1</th>\n",
       "      <td>44</td>\n",
       "      <td>3</td>\n",
       "      <td>de temps en temps</td>\n",
       "      <td>droite</td>\n",
       "      <td>9660</td>\n",
       "      <td>36-45</td>\n",
       "    </tr>\n",
       "    <tr>\n",
       "      <th>2</th>\n",
       "      <td>45</td>\n",
       "      <td>1</td>\n",
       "      <td>tous les jours</td>\n",
       "      <td>droite</td>\n",
       "      <td>7364</td>\n",
       "      <td>36-45</td>\n",
       "    </tr>\n",
       "    <tr>\n",
       "      <th>3</th>\n",
       "      <td>54</td>\n",
       "      <td>3</td>\n",
       "      <td>de temps en temps</td>\n",
       "      <td>droite</td>\n",
       "      <td>8947</td>\n",
       "      <td>46-55</td>\n",
       "    </tr>\n",
       "    <tr>\n",
       "      <th>4</th>\n",
       "      <td>86</td>\n",
       "      <td>2</td>\n",
       "      <td>tous les jours</td>\n",
       "      <td>populiste</td>\n",
       "      <td>6317</td>\n",
       "      <td>66-90</td>\n",
       "    </tr>\n",
       "    <tr>\n",
       "      <th>5</th>\n",
       "      <td>77</td>\n",
       "      <td>2</td>\n",
       "      <td>tous les jours</td>\n",
       "      <td>gauche</td>\n",
       "      <td>6511</td>\n",
       "      <td>66-90</td>\n",
       "    </tr>\n",
       "  </tbody>\n",
       "</table>\n",
       "</div>"
      ],
      "text/plain": [
       "    age  n_foyer    lecture_journal      parti  revenu_mensuel generation\n",
       "id                                                                       \n",
       "1    44        3  de temps en temps     droite            9660      36-45\n",
       "2    45        1     tous les jours     droite            7364      36-45\n",
       "3    54        3  de temps en temps     droite            8947      46-55\n",
       "4    86        2     tous les jours  populiste            6317      66-90\n",
       "5    77        2     tous les jours     gauche            6511      66-90"
      ]
     },
     "execution_count": 59,
     "metadata": {},
     "output_type": "execute_result"
    }
   ],
   "source": [
    "### Transformer le code ajouté pour qu'il soit plus lisible\n",
    "# noter qu'on a enlevé une unité afin d'avoir des valeurs incluses\n",
    "\n",
    "c_obs['generation'] = c_obs['generation'].apply(lambda x : str(int(x.left))+'-'+ str(int(x.right)-1))\n",
    "c_obs.head()"
   ]
  },
  {
   "cell_type": "code",
   "execution_count": 60,
   "id": "e0e6ac4e-c489-4537-a378-89d3441e61b5",
   "metadata": {},
   "outputs": [
    {
     "data": {
      "text/html": [
       "<div>\n",
       "<style scoped>\n",
       "    .dataframe tbody tr th:only-of-type {\n",
       "        vertical-align: middle;\n",
       "    }\n",
       "\n",
       "    .dataframe tbody tr th {\n",
       "        vertical-align: top;\n",
       "    }\n",
       "\n",
       "    .dataframe thead th {\n",
       "        text-align: right;\n",
       "    }\n",
       "</style>\n",
       "<table border=\"1\" class=\"dataframe\">\n",
       "  <thead>\n",
       "    <tr style=\"text-align: right;\">\n",
       "      <th></th>\n",
       "      <th>effectif</th>\n",
       "    </tr>\n",
       "    <tr>\n",
       "      <th>generation</th>\n",
       "      <th></th>\n",
       "    </tr>\n",
       "  </thead>\n",
       "  <tbody>\n",
       "    <tr>\n",
       "      <th>18-25</th>\n",
       "      <td>18</td>\n",
       "    </tr>\n",
       "    <tr>\n",
       "      <th>26-35</th>\n",
       "      <td>22</td>\n",
       "    </tr>\n",
       "    <tr>\n",
       "      <th>36-45</th>\n",
       "      <td>26</td>\n",
       "    </tr>\n",
       "    <tr>\n",
       "      <th>46-55</th>\n",
       "      <td>14</td>\n",
       "    </tr>\n",
       "    <tr>\n",
       "      <th>56-65</th>\n",
       "      <td>11</td>\n",
       "    </tr>\n",
       "    <tr>\n",
       "      <th>66-90</th>\n",
       "      <td>39</td>\n",
       "    </tr>\n",
       "  </tbody>\n",
       "</table>\n",
       "</div>"
      ],
      "text/plain": [
       "            effectif\n",
       "generation          \n",
       "18-25             18\n",
       "26-35             22\n",
       "36-45             26\n",
       "46-55             14\n",
       "56-65             11\n",
       "66-90             39"
      ]
     },
     "execution_count": 60,
     "metadata": {},
     "output_type": "execute_result"
    }
   ],
   "source": [
    "### Alternative : regrouper et compter par génération avec la fonction Pandas 'groupby' (équivalente à la précédente)\n",
    "gb_generation = pd.DataFrame(c_obs.groupby('generation').size())\n",
    "gb_generation.columns = ['effectif']\n",
    "gb_generation"
   ]
  },
  {
   "cell_type": "code",
   "execution_count": 65,
   "id": "f33f5872-0861-41c7-b890-1a8fb517ae2d",
   "metadata": {
    "tags": []
   },
   "outputs": [
    {
     "data": {
      "image/png": "[encoded data removed]",
      "text/plain": [
       "<Figure size 1152x576 with 1 Axes>"
      ]
     },
     "metadata": {},
     "output_type": "display_data"
    }
   ],
   "source": [
    "### Diagramme à barre, non adapté et trompeur: ce n'est pas un vrai histogramme\n",
    "# Attention aux différentes étendues des ages, les densités des tranches sont différentes\n",
    "\n",
    "objects = [l for l in gb_generation.index]\n",
    "eff = [l for l in gb_generation['effectif']]\n",
    "\n",
    "p1 = plt.bar(objects, eff)\n",
    "\n",
    "plt.ylabel('Effectif')\n",
    "plt.title(\"Diagramme à barre des âges (ce n'est pas un histogramme !)\")\n",
    "plt.gcf().set_size_inches(16, 8)\n",
    "# supported formats: eps, pdf, pgf, png, ps, raw, rgba, svg, svgz\n",
    "# plt.savefig('exported_pictures/effectifs_annees_reference_par_periode.png', dpi=100, bbox_inches = \"tight\") #pdf, svg\n",
    "plt.xticks(rotation=45)\n",
    "plt.show()\n"
   ]
  },
  {
   "cell_type": "code",
   "execution_count": 66,
   "id": "00772129-a949-444f-9133-519d181dab65",
   "metadata": {},
   "outputs": [
    {
     "data": {
      "text/html": [
       "<div>\n",
       "<style scoped>\n",
       "    .dataframe tbody tr th:only-of-type {\n",
       "        vertical-align: middle;\n",
       "    }\n",
       "\n",
       "    .dataframe tbody tr th {\n",
       "        vertical-align: top;\n",
       "    }\n",
       "\n",
       "    .dataframe thead th {\n",
       "        text-align: right;\n",
       "    }\n",
       "</style>\n",
       "<table border=\"1\" class=\"dataframe\">\n",
       "  <thead>\n",
       "    <tr style=\"text-align: right;\">\n",
       "      <th></th>\n",
       "      <th>generation</th>\n",
       "      <th>effectif</th>\n",
       "    </tr>\n",
       "  </thead>\n",
       "  <tbody>\n",
       "    <tr>\n",
       "      <th>0</th>\n",
       "      <td>18-25</td>\n",
       "      <td>18</td>\n",
       "    </tr>\n",
       "    <tr>\n",
       "      <th>1</th>\n",
       "      <td>26-35</td>\n",
       "      <td>22</td>\n",
       "    </tr>\n",
       "    <tr>\n",
       "      <th>2</th>\n",
       "      <td>36-45</td>\n",
       "      <td>26</td>\n",
       "    </tr>\n",
       "    <tr>\n",
       "      <th>3</th>\n",
       "      <td>46-55</td>\n",
       "      <td>14</td>\n",
       "    </tr>\n",
       "    <tr>\n",
       "      <th>4</th>\n",
       "      <td>56-65</td>\n",
       "      <td>11</td>\n",
       "    </tr>\n",
       "    <tr>\n",
       "      <th>5</th>\n",
       "      <td>66-90</td>\n",
       "      <td>39</td>\n",
       "    </tr>\n",
       "  </tbody>\n",
       "</table>\n",
       "</div>"
      ],
      "text/plain": [
       "  generation  effectif\n",
       "0      18-25        18\n",
       "1      26-35        22\n",
       "2      36-45        26\n",
       "3      46-55        14\n",
       "4      56-65        11\n",
       "5      66-90        39"
      ]
     },
     "execution_count": 66,
     "metadata": {},
     "output_type": "execute_result"
    }
   ],
   "source": [
    "gb_generation = gb_generation.reset_index()\n",
    "gb_generation"
   ]
  },
  {
   "cell_type": "code",
   "execution_count": 67,
   "id": "09a5e76b-28d1-41cb-84e0-5e1e3c248e12",
   "metadata": {},
   "outputs": [],
   "source": [
    "### L'histogramme est basé sur la densité de différentes tranches\n",
    "#  Cette fonction calcule la densité des tranches\n",
    "def calculer_densite(ligne):\n",
    "    i = ligne['generation'].split('-')\n",
    "    # print(i)\n",
    "    ampl = int(i[1])-int(i[0])\n",
    "    # print(ampl)\n",
    "    d = round(ligne['frequence']/ampl,4)\n",
    "    return(d)"
   ]
  },
  {
   "cell_type": "code",
   "execution_count": 68,
   "id": "040b85cb-58fb-4cdd-a7f0-4850b44e79bf",
   "metadata": {},
   "outputs": [
    {
     "data": {
      "text/html": [
       "<div>\n",
       "<style scoped>\n",
       "    .dataframe tbody tr th:only-of-type {\n",
       "        vertical-align: middle;\n",
       "    }\n",
       "\n",
       "    .dataframe tbody tr th {\n",
       "        vertical-align: top;\n",
       "    }\n",
       "\n",
       "    .dataframe thead th {\n",
       "        text-align: right;\n",
       "    }\n",
       "</style>\n",
       "<table border=\"1\" class=\"dataframe\">\n",
       "  <thead>\n",
       "    <tr style=\"text-align: right;\">\n",
       "      <th></th>\n",
       "      <th>generation</th>\n",
       "      <th>effectif</th>\n",
       "      <th>frequence</th>\n",
       "      <th>densité</th>\n",
       "      <th>start</th>\n",
       "      <th>width</th>\n",
       "    </tr>\n",
       "  </thead>\n",
       "  <tbody>\n",
       "    <tr>\n",
       "      <th>0</th>\n",
       "      <td>18-25</td>\n",
       "      <td>18</td>\n",
       "      <td>0.1385</td>\n",
       "      <td>0.0198</td>\n",
       "      <td>18</td>\n",
       "      <td>7</td>\n",
       "    </tr>\n",
       "    <tr>\n",
       "      <th>1</th>\n",
       "      <td>26-35</td>\n",
       "      <td>22</td>\n",
       "      <td>0.1692</td>\n",
       "      <td>0.0188</td>\n",
       "      <td>26</td>\n",
       "      <td>9</td>\n",
       "    </tr>\n",
       "    <tr>\n",
       "      <th>2</th>\n",
       "      <td>36-45</td>\n",
       "      <td>26</td>\n",
       "      <td>0.2000</td>\n",
       "      <td>0.0222</td>\n",
       "      <td>36</td>\n",
       "      <td>9</td>\n",
       "    </tr>\n",
       "    <tr>\n",
       "      <th>3</th>\n",
       "      <td>46-55</td>\n",
       "      <td>14</td>\n",
       "      <td>0.1077</td>\n",
       "      <td>0.0120</td>\n",
       "      <td>46</td>\n",
       "      <td>9</td>\n",
       "    </tr>\n",
       "    <tr>\n",
       "      <th>4</th>\n",
       "      <td>56-65</td>\n",
       "      <td>11</td>\n",
       "      <td>0.0846</td>\n",
       "      <td>0.0094</td>\n",
       "      <td>56</td>\n",
       "      <td>9</td>\n",
       "    </tr>\n",
       "    <tr>\n",
       "      <th>5</th>\n",
       "      <td>66-90</td>\n",
       "      <td>39</td>\n",
       "      <td>0.3000</td>\n",
       "      <td>0.0125</td>\n",
       "      <td>66</td>\n",
       "      <td>24</td>\n",
       "    </tr>\n",
       "  </tbody>\n",
       "</table>\n",
       "</div>"
      ],
      "text/plain": [
       "  generation  effectif  frequence  densité  start  width\n",
       "0      18-25        18     0.1385   0.0198     18      7\n",
       "1      26-35        22     0.1692   0.0188     26      9\n",
       "2      36-45        26     0.2000   0.0222     36      9\n",
       "3      46-55        14     0.1077   0.0120     46      9\n",
       "4      56-65        11     0.0846   0.0094     56      9\n",
       "5      66-90        39     0.3000   0.0125     66     24"
      ]
     },
     "execution_count": 68,
     "metadata": {},
     "output_type": "execute_result"
    }
   ],
   "source": [
    "### Séparer et préparer les différentes valeurs\n",
    "gb_generation['frequence'] = (gb_generation['effectif'] \\\n",
    "                                   / gb_generation['effectif'].sum()).round(4)\n",
    "gb_generation['densité'] = gb_generation.apply(calculer_densite, axis=1)\n",
    "gb_generation['start'] = gb_generation.apply(lambda x : int(x['generation'].split('-')[0]), axis=1)\n",
    "gb_generation['width'] = gb_generation.apply(lambda x : int(x['generation'].split('-')[1])-int(x['generation'].split('-')[0]), axis=1)\n",
    "gb_generation"
   ]
  },
  {
   "cell_type": "code",
   "execution_count": 69,
   "id": "d232549f-9f87-4a6c-9c03-30ad2ac2a00d",
   "metadata": {
    "tags": []
   },
   "outputs": [
    {
     "data": {
      "image/png": "[encoded data removed]",
      "text/plain": [
       "<Figure size 1152x576 with 1 Axes>"
      ]
     },
     "metadata": {},
     "output_type": "display_data"
    }
   ],
   "source": [
    "### Histogramme\n",
    "# La hauteur des barres, en abscisses, représente la densité non l'effectif, \n",
    "# l'effectif est représenté par l'aire: à effectif égale aire égale\n",
    "fig,ax = plt.subplots(1,1)\n",
    "\n",
    "objects = [l for l in gb_generation['start']]\n",
    "eff = [l for l in gb_generation['densité']]\n",
    "width = [l+0.9 if l < 10 else l for l in gb_generation['width']]\n",
    "\n",
    "p1 = plt.bar(objects, eff, width = width, align=\"edge\")\n",
    "ax.set_xticks([18, 26, 36, 46, 56, 66, 90])\n",
    "plt.ylabel('Densité')\n",
    "plt.title('Histogramme des âges')\n",
    "plt.gcf().set_size_inches(16, 8)\n",
    "# supported formats: eps, pdf, pgf, png, ps, raw, rgba, svg, svgz\n",
    "# plt.savefig('exported_pictures/effectifs_annees_reference_par_periode.png', dpi=100, bbox_inches = \"tight\") #pdf, svg\n",
    "plt.xticks(rotation=45)\n",
    "plt.show()\n"
   ]
  },
  {
   "cell_type": "markdown",
   "id": "3f40e1ab-a785-4f95-bc25-2f83cd62a487",
   "metadata": {},
   "source": [
    "## Exploration des revenus\n",
    "\n",
    "Variable quantitative continue\n",
    "\n",
    "On applique une méthodologie semblable à la précédente avec quelques différentes"
   ]
  },
  {
   "cell_type": "code",
   "execution_count": 70,
   "id": "be9925d6-ea33-4ce4-b2cf-b778b725b252",
   "metadata": {},
   "outputs": [
    {
     "data": {
      "text/plain": [
       "id\n",
       "1    9660\n",
       "2    7364\n",
       "3    8947\n",
       "4    6317\n",
       "5    6511\n",
       "Name: revenu_mensuel, dtype: int64"
      ]
     },
     "execution_count": 70,
     "metadata": {},
     "output_type": "execute_result"
    }
   ],
   "source": [
    "revenu = obs['revenu_mensuel']\n",
    "revenu.head()"
   ]
  },
  {
   "cell_type": "code",
   "execution_count": 71,
   "id": "f0acf107-0d2d-4b3f-b343-9c7fd7eb6881",
   "metadata": {},
   "outputs": [
    {
     "data": {
      "text/plain": [
       "id\n",
       "37     1400\n",
       "25     1500\n",
       "117    2000\n",
       "55     2135\n",
       "109    2500\n",
       "Name: revenu_mensuel, dtype: int64"
      ]
     },
     "execution_count": 71,
     "metadata": {},
     "output_type": "execute_result"
    }
   ],
   "source": [
    "s_revenu = revenu.sort_values()\n",
    "s_revenu.head()"
   ]
  },
  {
   "cell_type": "code",
   "execution_count": 72,
   "id": "ca2f5b1e-fd77-4b53-9c31-a8c2c7c4fb00",
   "metadata": {
    "tags": []
   },
   "outputs": [
    {
     "data": {
      "image/png": "[encoded data removed]",
      "text/plain": [
       "<Figure size 1800x504 with 1 Axes>"
      ]
     },
     "metadata": {},
     "output_type": "display_data"
    }
   ],
   "source": [
    "### Affichage ds revenus triés\n",
    "ax = s_revenu.plot.bar(x='lab', y='val', rot=70, figsize=(25,7))\n",
    "ax.tick_params(axis = 'x', labelsize = 8)"
   ]
  },
  {
   "cell_type": "code",
   "execution_count": 73,
   "id": "9298490d-4dc5-4cb9-8456-51d5340e84c1",
   "metadata": {},
   "outputs": [
    {
     "data": {
      "text/plain": [
       "count      130.0\n",
       "mean      8262.0\n",
       "std       5534.0\n",
       "min       1400.0\n",
       "25%       5037.0\n",
       "50%       7656.0\n",
       "75%       9451.0\n",
       "max      45000.0\n",
       "Name: revenu_mensuel, dtype: float64"
      ]
     },
     "execution_count": 73,
     "metadata": {},
     "output_type": "execute_result"
    }
   ],
   "source": [
    "### Centralité et dispersion\n",
    "revenu.describe().round(0)"
   ]
  },
  {
   "cell_type": "code",
   "execution_count": 75,
   "id": "4f43277c-6e44-41e2-bafa-ef0e01e46d83",
   "metadata": {},
   "outputs": [
    {
     "data": {
      "text/plain": [
       "(1400.0, 45000.0)"
      ]
     },
     "execution_count": 75,
     "metadata": {},
     "output_type": "execute_result"
    },
    {
     "data": {
      "image/png": "[encoded data removed]",
      "text/plain": [
       "<Figure size 2160x576 with 1 Axes>"
      ]
     },
     "metadata": {},
     "output_type": "display_data"
    }
   ],
   "source": [
    "### Le violin plot montre bien où se situent les revenus les plus fréquents\n",
    "\n",
    "sns.set_theme(style=\"whitegrid\")\n",
    "\n",
    "sns.set(rc={\"figure.figsize\":(30, 8)})\n",
    "\n",
    "a = obs[\"revenu_mensuel\"]\n",
    "\n",
    "ax = sns.violinplot(x=a)\n",
    "\n",
    "### Noter que au delà des limites les valeurs sont postulées\n",
    "ax.set_xlim(left=min(a), right=max(a))\n",
    "\n"
   ]
  },
  {
   "cell_type": "code",
   "execution_count": 77,
   "id": "fddcd328-736a-4143-b831-09d84833c78e",
   "metadata": {},
   "outputs": [
    {
     "data": {
      "text/html": [
       "<div>\n",
       "<style scoped>\n",
       "    .dataframe tbody tr th:only-of-type {\n",
       "        vertical-align: middle;\n",
       "    }\n",
       "\n",
       "    .dataframe tbody tr th {\n",
       "        vertical-align: top;\n",
       "    }\n",
       "\n",
       "    .dataframe thead th {\n",
       "        text-align: right;\n",
       "    }\n",
       "</style>\n",
       "<table border=\"1\" class=\"dataframe\">\n",
       "  <thead>\n",
       "    <tr style=\"text-align: right;\">\n",
       "      <th></th>\n",
       "      <th>revenu_mensuel</th>\n",
       "      <th>qcut</th>\n",
       "    </tr>\n",
       "    <tr>\n",
       "      <th>id</th>\n",
       "      <th></th>\n",
       "      <th></th>\n",
       "    </tr>\n",
       "  </thead>\n",
       "  <tbody>\n",
       "    <tr>\n",
       "      <th>37</th>\n",
       "      <td>1400</td>\n",
       "      <td>(1399.999, 5036.75]</td>\n",
       "    </tr>\n",
       "    <tr>\n",
       "      <th>25</th>\n",
       "      <td>1500</td>\n",
       "      <td>(1399.999, 5036.75]</td>\n",
       "    </tr>\n",
       "    <tr>\n",
       "      <th>117</th>\n",
       "      <td>2000</td>\n",
       "      <td>(1399.999, 5036.75]</td>\n",
       "    </tr>\n",
       "    <tr>\n",
       "      <th>55</th>\n",
       "      <td>2135</td>\n",
       "      <td>(1399.999, 5036.75]</td>\n",
       "    </tr>\n",
       "    <tr>\n",
       "      <th>109</th>\n",
       "      <td>2500</td>\n",
       "      <td>(1399.999, 5036.75]</td>\n",
       "    </tr>\n",
       "    <tr>\n",
       "      <th>...</th>\n",
       "      <td>...</td>\n",
       "      <td>...</td>\n",
       "    </tr>\n",
       "    <tr>\n",
       "      <th>81</th>\n",
       "      <td>19000</td>\n",
       "      <td>(9451.25, 45000.0]</td>\n",
       "    </tr>\n",
       "    <tr>\n",
       "      <th>41</th>\n",
       "      <td>25000</td>\n",
       "      <td>(9451.25, 45000.0]</td>\n",
       "    </tr>\n",
       "    <tr>\n",
       "      <th>108</th>\n",
       "      <td>25000</td>\n",
       "      <td>(9451.25, 45000.0]</td>\n",
       "    </tr>\n",
       "    <tr>\n",
       "      <th>32</th>\n",
       "      <td>28500</td>\n",
       "      <td>(9451.25, 45000.0]</td>\n",
       "    </tr>\n",
       "    <tr>\n",
       "      <th>57</th>\n",
       "      <td>45000</td>\n",
       "      <td>(9451.25, 45000.0]</td>\n",
       "    </tr>\n",
       "  </tbody>\n",
       "</table>\n",
       "<p>130 rows × 2 columns</p>\n",
       "</div>"
      ],
      "text/plain": [
       "     revenu_mensuel                 qcut\n",
       "id                                      \n",
       "37             1400  (1399.999, 5036.75]\n",
       "25             1500  (1399.999, 5036.75]\n",
       "117            2000  (1399.999, 5036.75]\n",
       "55             2135  (1399.999, 5036.75]\n",
       "109            2500  (1399.999, 5036.75]\n",
       "..              ...                  ...\n",
       "81            19000   (9451.25, 45000.0]\n",
       "41            25000   (9451.25, 45000.0]\n",
       "108           25000   (9451.25, 45000.0]\n",
       "32            28500   (9451.25, 45000.0]\n",
       "57            45000   (9451.25, 45000.0]\n",
       "\n",
       "[130 rows x 2 columns]"
      ]
     },
     "execution_count": 77,
     "metadata": {},
     "output_type": "execute_result"
    }
   ],
   "source": [
    "### Créer quatre classes de revenus en utilisant les quartiles\n",
    "# Chaque classe contient ainsi un quart de la population\n",
    "df_s_revenu = pd.DataFrame(s_revenu)\n",
    "df_s_revenu['qcut'] = pd.qcut(df_s_revenu['revenu_mensuel'], 4)\n",
    "df_s_revenu"
   ]
  },
  {
   "cell_type": "code",
   "execution_count": 78,
   "id": "8f08891b-353e-4194-aa36-44fd095fc164",
   "metadata": {},
   "outputs": [
    {
     "data": {
      "text/html": [
       "<div>\n",
       "<style scoped>\n",
       "    .dataframe tbody tr th:only-of-type {\n",
       "        vertical-align: middle;\n",
       "    }\n",
       "\n",
       "    .dataframe tbody tr th {\n",
       "        vertical-align: top;\n",
       "    }\n",
       "\n",
       "    .dataframe thead th {\n",
       "        text-align: right;\n",
       "    }\n",
       "</style>\n",
       "<table border=\"1\" class=\"dataframe\">\n",
       "  <thead>\n",
       "    <tr style=\"text-align: right;\">\n",
       "      <th></th>\n",
       "      <th>qcut</th>\n",
       "      <th>effectif</th>\n",
       "    </tr>\n",
       "  </thead>\n",
       "  <tbody>\n",
       "    <tr>\n",
       "      <th>0</th>\n",
       "      <td>(1399.999, 5036.75]</td>\n",
       "      <td>33</td>\n",
       "    </tr>\n",
       "    <tr>\n",
       "      <th>1</th>\n",
       "      <td>(5036.75, 7655.5]</td>\n",
       "      <td>32</td>\n",
       "    </tr>\n",
       "    <tr>\n",
       "      <th>2</th>\n",
       "      <td>(7655.5, 9451.25]</td>\n",
       "      <td>32</td>\n",
       "    </tr>\n",
       "    <tr>\n",
       "      <th>3</th>\n",
       "      <td>(9451.25, 45000.0]</td>\n",
       "      <td>33</td>\n",
       "    </tr>\n",
       "  </tbody>\n",
       "</table>\n",
       "</div>"
      ],
      "text/plain": [
       "                  qcut  effectif\n",
       "0  (1399.999, 5036.75]        33\n",
       "1    (5036.75, 7655.5]        32\n",
       "2    (7655.5, 9451.25]        32\n",
       "3   (9451.25, 45000.0]        33"
      ]
     },
     "execution_count": 78,
     "metadata": {},
     "output_type": "execute_result"
    }
   ],
   "source": [
    "gbdf_s_revenu = df_s_revenu.groupby(by='qcut').size()\n",
    "gbdf_s_revenu = gbdf_s_revenu.reset_index()\n",
    "gbdf_s_revenu.columns = ['qcut', 'effectif']\n",
    "gbdf_s_revenu"
   ]
  },
  {
   "cell_type": "code",
   "execution_count": 79,
   "id": "6d3d3fa3-bddc-43e0-9047-736ac563d302",
   "metadata": {},
   "outputs": [],
   "source": [
    "def calculer_densite_width(ligne):\n",
    "    x = ligne['qcut']\n",
    "    ampl = int(x.right) - int(x.left)\n",
    "    right = int(x.right)\n",
    "    left = int(x.left)\n",
    "    d = round(ligne['frequence']/ampl,8)\n",
    "    return([d, left, right, ampl])"
   ]
  },
  {
   "cell_type": "code",
   "execution_count": 80,
   "id": "7004887b-81e7-4c61-8d45-06a32e6c1db9",
   "metadata": {},
   "outputs": [
    {
     "data": {
      "text/html": [
       "<div>\n",
       "<style scoped>\n",
       "    .dataframe tbody tr th:only-of-type {\n",
       "        vertical-align: middle;\n",
       "    }\n",
       "\n",
       "    .dataframe tbody tr th {\n",
       "        vertical-align: top;\n",
       "    }\n",
       "\n",
       "    .dataframe thead th {\n",
       "        text-align: right;\n",
       "    }\n",
       "</style>\n",
       "<table border=\"1\" class=\"dataframe\">\n",
       "  <thead>\n",
       "    <tr style=\"text-align: right;\">\n",
       "      <th></th>\n",
       "      <th>qcut</th>\n",
       "      <th>effectif</th>\n",
       "      <th>frequence</th>\n",
       "    </tr>\n",
       "  </thead>\n",
       "  <tbody>\n",
       "    <tr>\n",
       "      <th>0</th>\n",
       "      <td>(1399.999, 5036.75]</td>\n",
       "      <td>33</td>\n",
       "      <td>0.253846</td>\n",
       "    </tr>\n",
       "    <tr>\n",
       "      <th>1</th>\n",
       "      <td>(5036.75, 7655.5]</td>\n",
       "      <td>32</td>\n",
       "      <td>0.246154</td>\n",
       "    </tr>\n",
       "    <tr>\n",
       "      <th>2</th>\n",
       "      <td>(7655.5, 9451.25]</td>\n",
       "      <td>32</td>\n",
       "      <td>0.246154</td>\n",
       "    </tr>\n",
       "    <tr>\n",
       "      <th>3</th>\n",
       "      <td>(9451.25, 45000.0]</td>\n",
       "      <td>33</td>\n",
       "      <td>0.253846</td>\n",
       "    </tr>\n",
       "  </tbody>\n",
       "</table>\n",
       "</div>"
      ],
      "text/plain": [
       "                  qcut  effectif  frequence\n",
       "0  (1399.999, 5036.75]        33   0.253846\n",
       "1    (5036.75, 7655.5]        32   0.246154\n",
       "2    (7655.5, 9451.25]        32   0.246154\n",
       "3   (9451.25, 45000.0]        33   0.253846"
      ]
     },
     "execution_count": 80,
     "metadata": {},
     "output_type": "execute_result"
    }
   ],
   "source": [
    "gbdf_s_revenu['frequence'] = (gbdf_s_revenu['effectif'] \\\n",
    "                / gbdf_s_revenu['effectif'].sum()).round(6)\n",
    "gbdf_s_revenu"
   ]
  },
  {
   "cell_type": "code",
   "execution_count": 81,
   "id": "87c71c08-51c9-49dd-8510-3d4b71fc6e98",
   "metadata": {},
   "outputs": [
    {
     "data": {
      "text/html": [
       "<div>\n",
       "<style scoped>\n",
       "    .dataframe tbody tr th:only-of-type {\n",
       "        vertical-align: middle;\n",
       "    }\n",
       "\n",
       "    .dataframe tbody tr th {\n",
       "        vertical-align: top;\n",
       "    }\n",
       "\n",
       "    .dataframe thead th {\n",
       "        text-align: right;\n",
       "    }\n",
       "</style>\n",
       "<table border=\"1\" class=\"dataframe\">\n",
       "  <thead>\n",
       "    <tr style=\"text-align: right;\">\n",
       "      <th></th>\n",
       "      <th>qcut</th>\n",
       "      <th>effectif</th>\n",
       "      <th>frequence</th>\n",
       "      <th>dlrampl</th>\n",
       "    </tr>\n",
       "  </thead>\n",
       "  <tbody>\n",
       "    <tr>\n",
       "      <th>0</th>\n",
       "      <td>(1399.999, 5036.75]</td>\n",
       "      <td>33</td>\n",
       "      <td>0.253846</td>\n",
       "      <td>[6.98e-05, 1399, 5036, 3637]</td>\n",
       "    </tr>\n",
       "    <tr>\n",
       "      <th>1</th>\n",
       "      <td>(5036.75, 7655.5]</td>\n",
       "      <td>32</td>\n",
       "      <td>0.246154</td>\n",
       "      <td>[9.399e-05, 5036, 7655, 2619]</td>\n",
       "    </tr>\n",
       "    <tr>\n",
       "      <th>2</th>\n",
       "      <td>(7655.5, 9451.25]</td>\n",
       "      <td>32</td>\n",
       "      <td>0.246154</td>\n",
       "      <td>[0.00013706, 7655, 9451, 1796]</td>\n",
       "    </tr>\n",
       "    <tr>\n",
       "      <th>3</th>\n",
       "      <td>(9451.25, 45000.0]</td>\n",
       "      <td>33</td>\n",
       "      <td>0.253846</td>\n",
       "      <td>[7.14e-06, 9451, 45000, 35549]</td>\n",
       "    </tr>\n",
       "  </tbody>\n",
       "</table>\n",
       "</div>"
      ],
      "text/plain": [
       "                  qcut  effectif  frequence                         dlrampl\n",
       "0  (1399.999, 5036.75]        33   0.253846    [6.98e-05, 1399, 5036, 3637]\n",
       "1    (5036.75, 7655.5]        32   0.246154   [9.399e-05, 5036, 7655, 2619]\n",
       "2    (7655.5, 9451.25]        32   0.246154  [0.00013706, 7655, 9451, 1796]\n",
       "3   (9451.25, 45000.0]        33   0.253846  [7.14e-06, 9451, 45000, 35549]"
      ]
     },
     "execution_count": 81,
     "metadata": {},
     "output_type": "execute_result"
    }
   ],
   "source": [
    "gbdf_s_revenu['dlrampl'] = gbdf_s_revenu.apply(calculer_densite_width, axis=1)\n",
    "gbdf_s_revenu"
   ]
  },
  {
   "cell_type": "code",
   "execution_count": 83,
   "id": "90e88c66-7487-47be-8ab5-3eab6761ab03",
   "metadata": {
    "tags": []
   },
   "outputs": [
    {
     "data": {
      "image/png": "[encoded data removed]",
      "text/plain": [
       "<Figure size 1152x576 with 1 Axes>"
      ]
     },
     "metadata": {},
     "output_type": "display_data"
    }
   ],
   "source": [
    "### Histogramme\n",
    "# La hauteur des barres, en ordonnées, représente la densité non l'effectif, \n",
    "# l'effectif est représenté par l'aire\n",
    "##  Noter le nombre élevé de revenus autour de 8000 CHF, \n",
    "## en revanche peu d'individus dans la classe avec les plus haut revenus\n",
    "\n",
    "fig,ax = plt.subplots(1,1)\n",
    "\n",
    "objects = [l[1] for l in gbdf_s_revenu['dlrampl']]\n",
    "eff = [l[0] for l in gbdf_s_revenu['dlrampl']]\n",
    "width = [l[3]  for l in gbdf_s_revenu['dlrampl']]\n",
    "\n",
    "\n",
    "p1 = plt.bar(objects, eff, width = width, align=\"edge\")\n",
    "ax.set_xticks(objects + [[l[2] for l in gbdf_s_revenu['dlrampl']][-1]])\n",
    "plt.ylabel('Densité')\n",
    "plt.title('Histogramme des revenus')\n",
    "plt.gcf().set_size_inches(16, 8)\n",
    "# supported formats: eps, pdf, pgf, png, ps, raw, rgba, svg, svgz\n",
    "# plt.savefig('exported_pictures/effectifs_annees_reference_par_periode.png', dpi=100, bbox_inches = \"tight\") #pdf, svg\n",
    "plt.xticks(rotation=45)\n",
    "plt.show()\n"
   ]
  },
  {
   "cell_type": "code",
   "execution_count": 85,
   "id": "bb2cc507-dcb9-48a4-8fa6-6c21a887314e",
   "metadata": {},
   "outputs": [
    {
     "name": "stdout",
     "output_type": "stream",
     "text": [
      "[118.   8.   3.   1.]\n"
     ]
    },
    {
     "data": {
      "image/png": "[encoded data removed]",
      "text/plain": [
       "<Figure size 2160x576 with 1 Axes>"
      ]
     },
     "metadata": {},
     "output_type": "display_data"
    }
   ],
   "source": [
    "### Le graphique par défaut de Matplotlib, \n",
    "#  ne met pas en évidence la spécificité de la distribution,\n",
    "#  i.e. le nombre élevé de revenus autour de 8000 CHF\n",
    "# Ceci dépend d'un (et illustre un) découpage des classes non pertinent\n",
    "n, bins, patches = plt.hist(s_revenu, bins=4, density=False)\n",
    "print(n)\n",
    "plt.xticks(bins)\n",
    "plt.show()"
   ]
  },
  {
   "cell_type": "code",
   "execution_count": null,
   "id": "83a72fff-5341-42d9-95ab-418dec58c6ae",
   "metadata": {},
   "outputs": [],
   "source": []
  },
  {
   "cell_type": "markdown",
   "id": "22d83066-204e-42f9-8390-ef63c345ee54",
   "metadata": {
    "tags": []
   },
   "source": [
    "## Regrouper et analyser les variables qualitatives"
   ]
  },
  {
   "cell_type": "markdown",
   "id": "c2cd534c-21e2-4597-af3e-bf4e4b9c2907",
   "metadata": {},
   "source": [
    "### Parti politique"
   ]
  },
  {
   "cell_type": "code",
   "execution_count": 86,
   "id": "smart-chest",
   "metadata": {},
   "outputs": [
    {
     "data": {
      "text/plain": [
       "parti\n",
       "droite        18\n",
       "gauche        23\n",
       "centre        25\n",
       "populiste     30\n",
       "écologiste    34\n",
       "dtype: int64"
      ]
     },
     "execution_count": 86,
     "metadata": {},
     "output_type": "execute_result"
    }
   ],
   "source": [
    "### Regrouper et compter\n",
    "gb_parti = obs.groupby('parti').size()\n",
    "sgb_parti = gb_parti.sort_values(ascending = True)\n",
    "sgb_parti"
   ]
  },
  {
   "cell_type": "code",
   "execution_count": 87,
   "id": "divine-mention",
   "metadata": {},
   "outputs": [
    {
     "data": {
      "text/html": [
       "<div>\n",
       "<style scoped>\n",
       "    .dataframe tbody tr th:only-of-type {\n",
       "        vertical-align: middle;\n",
       "    }\n",
       "\n",
       "    .dataframe tbody tr th {\n",
       "        vertical-align: top;\n",
       "    }\n",
       "\n",
       "    .dataframe thead th {\n",
       "        text-align: right;\n",
       "    }\n",
       "</style>\n",
       "<table border=\"1\" class=\"dataframe\">\n",
       "  <thead>\n",
       "    <tr style=\"text-align: right;\">\n",
       "      <th></th>\n",
       "      <th>parti</th>\n",
       "      <th>0</th>\n",
       "    </tr>\n",
       "  </thead>\n",
       "  <tbody>\n",
       "    <tr>\n",
       "      <th>0</th>\n",
       "      <td>droite</td>\n",
       "      <td>18</td>\n",
       "    </tr>\n",
       "    <tr>\n",
       "      <th>1</th>\n",
       "      <td>gauche</td>\n",
       "      <td>23</td>\n",
       "    </tr>\n",
       "    <tr>\n",
       "      <th>2</th>\n",
       "      <td>centre</td>\n",
       "      <td>25</td>\n",
       "    </tr>\n",
       "    <tr>\n",
       "      <th>3</th>\n",
       "      <td>populiste</td>\n",
       "      <td>30</td>\n",
       "    </tr>\n",
       "    <tr>\n",
       "      <th>4</th>\n",
       "      <td>écologiste</td>\n",
       "      <td>34</td>\n",
       "    </tr>\n",
       "  </tbody>\n",
       "</table>\n",
       "</div>"
      ],
      "text/plain": [
       "        parti   0\n",
       "0      droite  18\n",
       "1      gauche  23\n",
       "2      centre  25\n",
       "3   populiste  30\n",
       "4  écologiste  34"
      ]
     },
     "execution_count": 87,
     "metadata": {},
     "output_type": "execute_result"
    }
   ],
   "source": [
    "df_partis = pd.DataFrame(sgb_parti)\n",
    "df_partis.reset_index(inplace=True)\n",
    "df_partis"
   ]
  },
  {
   "cell_type": "code",
   "execution_count": 88,
   "id": "racial-doctor",
   "metadata": {
    "tags": []
   },
   "outputs": [
    {
     "data": {
      "text/html": [
       "<div>\n",
       "<style scoped>\n",
       "    .dataframe tbody tr th:only-of-type {\n",
       "        vertical-align: middle;\n",
       "    }\n",
       "\n",
       "    .dataframe tbody tr th {\n",
       "        vertical-align: top;\n",
       "    }\n",
       "\n",
       "    .dataframe thead th {\n",
       "        text-align: right;\n",
       "    }\n",
       "</style>\n",
       "<table border=\"1\" class=\"dataframe\">\n",
       "  <thead>\n",
       "    <tr style=\"text-align: right;\">\n",
       "      <th></th>\n",
       "      <th>parti</th>\n",
       "      <th>effectif</th>\n",
       "      <th>code_parti</th>\n",
       "    </tr>\n",
       "  </thead>\n",
       "  <tbody>\n",
       "    <tr>\n",
       "      <th>0</th>\n",
       "      <td>droite</td>\n",
       "      <td>18</td>\n",
       "      <td>4</td>\n",
       "    </tr>\n",
       "    <tr>\n",
       "      <th>1</th>\n",
       "      <td>gauche</td>\n",
       "      <td>23</td>\n",
       "      <td>2</td>\n",
       "    </tr>\n",
       "    <tr>\n",
       "      <th>2</th>\n",
       "      <td>centre</td>\n",
       "      <td>25</td>\n",
       "      <td>3</td>\n",
       "    </tr>\n",
       "    <tr>\n",
       "      <th>3</th>\n",
       "      <td>populiste</td>\n",
       "      <td>30</td>\n",
       "      <td>5</td>\n",
       "    </tr>\n",
       "    <tr>\n",
       "      <th>4</th>\n",
       "      <td>écologiste</td>\n",
       "      <td>34</td>\n",
       "      <td>1</td>\n",
       "    </tr>\n",
       "  </tbody>\n",
       "</table>\n",
       "</div>"
      ],
      "text/plain": [
       "        parti  effectif  code_parti\n",
       "0      droite        18           4\n",
       "1      gauche        23           2\n",
       "2      centre        25           3\n",
       "3   populiste        30           5\n",
       "4  écologiste        34           1"
      ]
     },
     "execution_count": 88,
     "metadata": {},
     "output_type": "execute_result"
    }
   ],
   "source": [
    "### Le code attribué manuellement permet de représenter l'émicycle parlementaire\n",
    "df_partis.columns = ['parti','effectif']\n",
    "df_partis['code_parti'] = [4,2,3,5,1]\n",
    "# df_partis.reset_index('parti').set_index('code_parti')\n",
    "df_partis"
   ]
  },
  {
   "cell_type": "code",
   "execution_count": 89,
   "id": "overall-assistant",
   "metadata": {
    "tags": []
   },
   "outputs": [
    {
     "data": {
      "image/png": "[encoded data removed]",
      "text/plain": [
       "<Figure size 1152x576 with 1 Axes>"
      ]
     },
     "metadata": {},
     "output_type": "display_data"
    }
   ],
   "source": [
    "# Distribution par parti\n",
    "\n",
    "objects = [l for l in df_partis['parti']]\n",
    "eff = [l for l in df_partis['effectif']]\n",
    "\n",
    "objects = [l for l in df_partis.sort_values('code_parti')['parti']]\n",
    "eff = [l for l in df_partis.sort_values('code_parti')['effectif']]\n",
    "\n",
    "\n",
    "\n",
    "p1 = plt.bar(objects, eff, width=0.4)\n",
    "\n",
    "#plt.xticks(l5Years)\n",
    "plt.ylabel('Effectif')\n",
    "plt.title('Effectifs par parti')\n",
    "plt.gcf().set_size_inches(16, 8)\n",
    "#plt.gca().axes.get_xaxis().set_visible(False)\n",
    "# supported formats: eps, pdf, pgf, png, ps, raw, rgba, svg, svgz\n",
    "#plt.savefig('exported_pictures/effectifs_naissances_par_annee.png', dpi=100, bbox_inches = \"tight\") #pdf, svg\n",
    "plt.xticks(rotation=45)\n",
    "plt.show()\n"
   ]
  },
  {
   "cell_type": "markdown",
   "id": "05decd70-39f0-408a-b85a-ba8b4a116d72",
   "metadata": {
    "tags": []
   },
   "source": [
    "### Fréquence de lecture d'un journal"
   ]
  },
  {
   "cell_type": "code",
   "execution_count": 90,
   "id": "chemical-cambodia",
   "metadata": {},
   "outputs": [
    {
     "data": {
      "text/plain": [
       "lecture_journal\n",
       "de temps en temps                17\n",
       "tous les jours                   19\n",
       "le week-end                      29\n",
       "très rarement                    30\n",
       "trois-quatre fois par semaine    35\n",
       "dtype: int64"
      ]
     },
     "execution_count": 90,
     "metadata": {},
     "output_type": "execute_result"
    }
   ],
   "source": [
    "### Regrouper et compter par fréquence de lecture du journal (variable qualitative)\n",
    "gb_lecture_journal = obs.groupby('lecture_journal').size()\n",
    "sgb_lecture_journal = gb_lecture_journal.sort_values(ascending = True)\n",
    "sgb_lecture_journal"
   ]
  },
  {
   "cell_type": "code",
   "execution_count": 91,
   "id": "enclosed-array",
   "metadata": {},
   "outputs": [
    {
     "data": {
      "text/plain": [
       "lecture_journal\n",
       "de temps en temps                17\n",
       "tous les jours                   19\n",
       "le week-end                      29\n",
       "très rarement                    30\n",
       "trois-quatre fois par semaine    35\n",
       "dtype: int64"
      ]
     },
     "execution_count": 91,
     "metadata": {},
     "output_type": "execute_result"
    }
   ],
   "source": [
    "sgb_lecture_journal"
   ]
  },
  {
   "cell_type": "code",
   "execution_count": 100,
   "id": "regulated-object",
   "metadata": {},
   "outputs": [
    {
     "data": {
      "text/html": [
       "<div>\n",
       "<style scoped>\n",
       "    .dataframe tbody tr th:only-of-type {\n",
       "        vertical-align: middle;\n",
       "    }\n",
       "\n",
       "    .dataframe tbody tr th {\n",
       "        vertical-align: top;\n",
       "    }\n",
       "\n",
       "    .dataframe thead th {\n",
       "        text-align: right;\n",
       "    }\n",
       "</style>\n",
       "<table border=\"1\" class=\"dataframe\">\n",
       "  <thead>\n",
       "    <tr style=\"text-align: right;\">\n",
       "      <th></th>\n",
       "      <th>lecture</th>\n",
       "      <th>effectif</th>\n",
       "      <th>code_lecture</th>\n",
       "    </tr>\n",
       "  </thead>\n",
       "  <tbody>\n",
       "    <tr>\n",
       "      <th>0</th>\n",
       "      <td>de temps en temps</td>\n",
       "      <td>17</td>\n",
       "      <td>2</td>\n",
       "    </tr>\n",
       "    <tr>\n",
       "      <th>1</th>\n",
       "      <td>tous les jours</td>\n",
       "      <td>19</td>\n",
       "      <td>5</td>\n",
       "    </tr>\n",
       "    <tr>\n",
       "      <th>2</th>\n",
       "      <td>le week-end</td>\n",
       "      <td>29</td>\n",
       "      <td>3</td>\n",
       "    </tr>\n",
       "    <tr>\n",
       "      <th>3</th>\n",
       "      <td>très rarement</td>\n",
       "      <td>30</td>\n",
       "      <td>1</td>\n",
       "    </tr>\n",
       "    <tr>\n",
       "      <th>4</th>\n",
       "      <td>trois-quatre fois par semaine</td>\n",
       "      <td>35</td>\n",
       "      <td>4</td>\n",
       "    </tr>\n",
       "  </tbody>\n",
       "</table>\n",
       "</div>"
      ],
      "text/plain": [
       "                         lecture  effectif  code_lecture\n",
       "0              de temps en temps        17             2\n",
       "1                 tous les jours        19             5\n",
       "2                    le week-end        29             3\n",
       "3                  très rarement        30             1\n",
       "4  trois-quatre fois par semaine        35             4"
      ]
     },
     "execution_count": 100,
     "metadata": {},
     "output_type": "execute_result"
    }
   ],
   "source": [
    "## Le code permet un tri dans l'ordre de la fréquence de cette variable en fait ordonnée\n",
    "df_lecture_journal = pd.DataFrame(sgb_lecture_journal)\n",
    "df_lecture_journal.reset_index(inplace=True)\n",
    "df_lecture_journal.columns = ['lecture','effectif']\n",
    "df_lecture_journal['code_lecture'] = [2,5,3,1,4]\n",
    "df_lecture_journal"
   ]
  },
  {
   "cell_type": "code",
   "execution_count": 101,
   "id": "italian-grave",
   "metadata": {},
   "outputs": [
    {
     "data": {
      "text/plain": [
       "['très rarement',\n",
       " 'de temps en temps',\n",
       " 'le week-end',\n",
       " 'trois-quatre fois par semaine',\n",
       " 'tous les jours']"
      ]
     },
     "execution_count": 101,
     "metadata": {},
     "output_type": "execute_result"
    }
   ],
   "source": [
    "df_lecture_journal.sort_values('code_lecture', inplace=True)\n",
    "list(df_lecture_journal['lecture'])"
   ]
  },
  {
   "cell_type": "code",
   "execution_count": 102,
   "id": "exotic-decimal",
   "metadata": {},
   "outputs": [
    {
     "data": {
      "text/html": [
       "<div>\n",
       "<style scoped>\n",
       "    .dataframe tbody tr th:only-of-type {\n",
       "        vertical-align: middle;\n",
       "    }\n",
       "\n",
       "    .dataframe tbody tr th {\n",
       "        vertical-align: top;\n",
       "    }\n",
       "\n",
       "    .dataframe thead th {\n",
       "        text-align: right;\n",
       "    }\n",
       "</style>\n",
       "<table border=\"1\" class=\"dataframe\">\n",
       "  <thead>\n",
       "    <tr style=\"text-align: right;\">\n",
       "      <th></th>\n",
       "      <th>lecture</th>\n",
       "      <th>effectif</th>\n",
       "      <th>code_lecture</th>\n",
       "      <th>effectif_cumule</th>\n",
       "    </tr>\n",
       "  </thead>\n",
       "  <tbody>\n",
       "    <tr>\n",
       "      <th>3</th>\n",
       "      <td>très rarement</td>\n",
       "      <td>30</td>\n",
       "      <td>1</td>\n",
       "      <td>30</td>\n",
       "    </tr>\n",
       "    <tr>\n",
       "      <th>0</th>\n",
       "      <td>de temps en temps</td>\n",
       "      <td>17</td>\n",
       "      <td>2</td>\n",
       "      <td>47</td>\n",
       "    </tr>\n",
       "    <tr>\n",
       "      <th>2</th>\n",
       "      <td>le week-end</td>\n",
       "      <td>29</td>\n",
       "      <td>3</td>\n",
       "      <td>76</td>\n",
       "    </tr>\n",
       "    <tr>\n",
       "      <th>4</th>\n",
       "      <td>trois-quatre fois par semaine</td>\n",
       "      <td>35</td>\n",
       "      <td>4</td>\n",
       "      <td>111</td>\n",
       "    </tr>\n",
       "    <tr>\n",
       "      <th>1</th>\n",
       "      <td>tous les jours</td>\n",
       "      <td>19</td>\n",
       "      <td>5</td>\n",
       "      <td>130</td>\n",
       "    </tr>\n",
       "  </tbody>\n",
       "</table>\n",
       "</div>"
      ],
      "text/plain": [
       "                         lecture  effectif  code_lecture  effectif_cumule\n",
       "3                  très rarement        30             1               30\n",
       "0              de temps en temps        17             2               47\n",
       "2                    le week-end        29             3               76\n",
       "4  trois-quatre fois par semaine        35             4              111\n",
       "1                 tous les jours        19             5              130"
      ]
     },
     "execution_count": 102,
     "metadata": {},
     "output_type": "execute_result"
    }
   ],
   "source": [
    "df_lecture_journal['effectif_cumule'] = df_lecture_journal['effectif'].cumsum()\n",
    "df_lecture_journal"
   ]
  },
  {
   "cell_type": "code",
   "execution_count": 103,
   "id": "threatened-matter",
   "metadata": {},
   "outputs": [
    {
     "data": {
      "text/html": [
       "<div>\n",
       "<style scoped>\n",
       "    .dataframe tbody tr th:only-of-type {\n",
       "        vertical-align: middle;\n",
       "    }\n",
       "\n",
       "    .dataframe tbody tr th {\n",
       "        vertical-align: top;\n",
       "    }\n",
       "\n",
       "    .dataframe thead th {\n",
       "        text-align: right;\n",
       "    }\n",
       "</style>\n",
       "<table border=\"1\" class=\"dataframe\">\n",
       "  <thead>\n",
       "    <tr style=\"text-align: right;\">\n",
       "      <th></th>\n",
       "      <th>lecture</th>\n",
       "      <th>effectif</th>\n",
       "      <th>code_lecture</th>\n",
       "      <th>effectif_cumule</th>\n",
       "      <th>frequence</th>\n",
       "    </tr>\n",
       "  </thead>\n",
       "  <tbody>\n",
       "    <tr>\n",
       "      <th>3</th>\n",
       "      <td>très rarement</td>\n",
       "      <td>30</td>\n",
       "      <td>1</td>\n",
       "      <td>30</td>\n",
       "      <td>23.08</td>\n",
       "    </tr>\n",
       "    <tr>\n",
       "      <th>0</th>\n",
       "      <td>de temps en temps</td>\n",
       "      <td>17</td>\n",
       "      <td>2</td>\n",
       "      <td>47</td>\n",
       "      <td>13.08</td>\n",
       "    </tr>\n",
       "    <tr>\n",
       "      <th>2</th>\n",
       "      <td>le week-end</td>\n",
       "      <td>29</td>\n",
       "      <td>3</td>\n",
       "      <td>76</td>\n",
       "      <td>22.31</td>\n",
       "    </tr>\n",
       "    <tr>\n",
       "      <th>4</th>\n",
       "      <td>trois-quatre fois par semaine</td>\n",
       "      <td>35</td>\n",
       "      <td>4</td>\n",
       "      <td>111</td>\n",
       "      <td>26.92</td>\n",
       "    </tr>\n",
       "    <tr>\n",
       "      <th>1</th>\n",
       "      <td>tous les jours</td>\n",
       "      <td>19</td>\n",
       "      <td>5</td>\n",
       "      <td>130</td>\n",
       "      <td>14.62</td>\n",
       "    </tr>\n",
       "  </tbody>\n",
       "</table>\n",
       "</div>"
      ],
      "text/plain": [
       "                         lecture  effectif  code_lecture  effectif_cumule  \\\n",
       "3                  très rarement        30             1               30   \n",
       "0              de temps en temps        17             2               47   \n",
       "2                    le week-end        29             3               76   \n",
       "4  trois-quatre fois par semaine        35             4              111   \n",
       "1                 tous les jours        19             5              130   \n",
       "\n",
       "   frequence  \n",
       "3      23.08  \n",
       "0      13.08  \n",
       "2      22.31  \n",
       "4      26.92  \n",
       "1      14.62  "
      ]
     },
     "execution_count": 103,
     "metadata": {},
     "output_type": "execute_result"
    }
   ],
   "source": [
    "df_lecture_journal['frequence'] = (100 * df_lecture_journal['effectif'] \\\n",
    "                                   / df_lecture_journal['effectif'].sum()).round(2)\n",
    "df_lecture_journal"
   ]
  },
  {
   "cell_type": "code",
   "execution_count": 104,
   "id": "liable-candidate",
   "metadata": {},
   "outputs": [
    {
     "data": {
      "text/html": [
       "<div>\n",
       "<style scoped>\n",
       "    .dataframe tbody tr th:only-of-type {\n",
       "        vertical-align: middle;\n",
       "    }\n",
       "\n",
       "    .dataframe tbody tr th {\n",
       "        vertical-align: top;\n",
       "    }\n",
       "\n",
       "    .dataframe thead th {\n",
       "        text-align: right;\n",
       "    }\n",
       "</style>\n",
       "<table border=\"1\" class=\"dataframe\">\n",
       "  <thead>\n",
       "    <tr style=\"text-align: right;\">\n",
       "      <th></th>\n",
       "      <th>lecture</th>\n",
       "      <th>effectif</th>\n",
       "      <th>code_lecture</th>\n",
       "      <th>effectif_cumule</th>\n",
       "      <th>frequence</th>\n",
       "      <th>frequence_cumulee</th>\n",
       "    </tr>\n",
       "  </thead>\n",
       "  <tbody>\n",
       "    <tr>\n",
       "      <th>3</th>\n",
       "      <td>très rarement</td>\n",
       "      <td>30</td>\n",
       "      <td>1</td>\n",
       "      <td>30</td>\n",
       "      <td>23.08</td>\n",
       "      <td>23.08</td>\n",
       "    </tr>\n",
       "    <tr>\n",
       "      <th>0</th>\n",
       "      <td>de temps en temps</td>\n",
       "      <td>17</td>\n",
       "      <td>2</td>\n",
       "      <td>47</td>\n",
       "      <td>13.08</td>\n",
       "      <td>36.15</td>\n",
       "    </tr>\n",
       "    <tr>\n",
       "      <th>2</th>\n",
       "      <td>le week-end</td>\n",
       "      <td>29</td>\n",
       "      <td>3</td>\n",
       "      <td>76</td>\n",
       "      <td>22.31</td>\n",
       "      <td>58.46</td>\n",
       "    </tr>\n",
       "    <tr>\n",
       "      <th>4</th>\n",
       "      <td>trois-quatre fois par semaine</td>\n",
       "      <td>35</td>\n",
       "      <td>4</td>\n",
       "      <td>111</td>\n",
       "      <td>26.92</td>\n",
       "      <td>85.38</td>\n",
       "    </tr>\n",
       "    <tr>\n",
       "      <th>1</th>\n",
       "      <td>tous les jours</td>\n",
       "      <td>19</td>\n",
       "      <td>5</td>\n",
       "      <td>130</td>\n",
       "      <td>14.62</td>\n",
       "      <td>100.00</td>\n",
       "    </tr>\n",
       "  </tbody>\n",
       "</table>\n",
       "</div>"
      ],
      "text/plain": [
       "                         lecture  effectif  code_lecture  effectif_cumule  \\\n",
       "3                  très rarement        30             1               30   \n",
       "0              de temps en temps        17             2               47   \n",
       "2                    le week-end        29             3               76   \n",
       "4  trois-quatre fois par semaine        35             4              111   \n",
       "1                 tous les jours        19             5              130   \n",
       "\n",
       "   frequence  frequence_cumulee  \n",
       "3      23.08              23.08  \n",
       "0      13.08              36.15  \n",
       "2      22.31              58.46  \n",
       "4      26.92              85.38  \n",
       "1      14.62             100.00  "
      ]
     },
     "execution_count": 104,
     "metadata": {},
     "output_type": "execute_result"
    }
   ],
   "source": [
    "### Fréquence cumulée calculée en utilisant les effectifs cumulés\n",
    "\n",
    "df_lecture_journal['frequence_cumulee'] = (100 * df_lecture_journal['effectif_cumule'] \\\n",
    "                                / df_lecture_journal['effectif'].sum()).round(2)\n",
    "df_lecture_journal"
   ]
  },
  {
   "cell_type": "code",
   "execution_count": 105,
   "id": "numeric-metadata",
   "metadata": {},
   "outputs": [
    {
     "data": {
      "text/html": [
       "<div>\n",
       "<style scoped>\n",
       "    .dataframe tbody tr th:only-of-type {\n",
       "        vertical-align: middle;\n",
       "    }\n",
       "\n",
       "    .dataframe tbody tr th {\n",
       "        vertical-align: top;\n",
       "    }\n",
       "\n",
       "    .dataframe thead th {\n",
       "        text-align: right;\n",
       "    }\n",
       "</style>\n",
       "<table border=\"1\" class=\"dataframe\">\n",
       "  <thead>\n",
       "    <tr style=\"text-align: right;\">\n",
       "      <th></th>\n",
       "      <th>lecture</th>\n",
       "      <th>effectif</th>\n",
       "      <th>code_lecture</th>\n",
       "      <th>effectif_cumule</th>\n",
       "      <th>frequence</th>\n",
       "      <th>frequence_cumulee</th>\n",
       "    </tr>\n",
       "  </thead>\n",
       "  <tbody>\n",
       "    <tr>\n",
       "      <th>3</th>\n",
       "      <td>très rarement</td>\n",
       "      <td>30</td>\n",
       "      <td>1</td>\n",
       "      <td>30</td>\n",
       "      <td>23.08</td>\n",
       "      <td>23.08</td>\n",
       "    </tr>\n",
       "    <tr>\n",
       "      <th>0</th>\n",
       "      <td>de temps en temps</td>\n",
       "      <td>17</td>\n",
       "      <td>2</td>\n",
       "      <td>47</td>\n",
       "      <td>13.08</td>\n",
       "      <td>36.15</td>\n",
       "    </tr>\n",
       "    <tr>\n",
       "      <th>2</th>\n",
       "      <td>le week-end</td>\n",
       "      <td>29</td>\n",
       "      <td>3</td>\n",
       "      <td>76</td>\n",
       "      <td>22.31</td>\n",
       "      <td>58.46</td>\n",
       "    </tr>\n",
       "    <tr>\n",
       "      <th>4</th>\n",
       "      <td>trois-quatre fois par semaine</td>\n",
       "      <td>35</td>\n",
       "      <td>4</td>\n",
       "      <td>111</td>\n",
       "      <td>26.92</td>\n",
       "      <td>85.38</td>\n",
       "    </tr>\n",
       "    <tr>\n",
       "      <th>1</th>\n",
       "      <td>tous les jours</td>\n",
       "      <td>19</td>\n",
       "      <td>5</td>\n",
       "      <td>130</td>\n",
       "      <td>14.62</td>\n",
       "      <td>100.00</td>\n",
       "    </tr>\n",
       "  </tbody>\n",
       "</table>\n",
       "</div>"
      ],
      "text/plain": [
       "                         lecture  effectif  code_lecture  effectif_cumule  \\\n",
       "3                  très rarement        30             1               30   \n",
       "0              de temps en temps        17             2               47   \n",
       "2                    le week-end        29             3               76   \n",
       "4  trois-quatre fois par semaine        35             4              111   \n",
       "1                 tous les jours        19             5              130   \n",
       "\n",
       "   frequence  frequence_cumulee  \n",
       "3      23.08              23.08  \n",
       "0      13.08              36.15  \n",
       "2      22.31              58.46  \n",
       "4      26.92              85.38  \n",
       "1      14.62             100.00  "
      ]
     },
     "execution_count": 105,
     "metadata": {},
     "output_type": "execute_result"
    }
   ],
   "source": [
    "### Fréquence cumulée calculée directement\n",
    "\n",
    "# Cf. https://www.geeksforgeeks.org/cumulative-percentage-of-a-column-in-pandas-python/\n",
    "\n",
    "df_lecture_journal['frequence_cumulee'] = (100 * df_lecture_journal['effectif'].cumsum() \\\n",
    "                                / df_lecture_journal['effectif'].sum()).round(2)\n",
    "df_lecture_journal"
   ]
  },
  {
   "cell_type": "code",
   "execution_count": 106,
   "id": "billion-birthday",
   "metadata": {},
   "outputs": [
    {
     "data": {
      "image/png": "[encoded data removed]",
      "text/plain": [
       "<Figure size 1152x576 with 1 Axes>"
      ]
     },
     "metadata": {},
     "output_type": "display_data"
    }
   ],
   "source": [
    "# Distribution par lecture journal\n",
    "\n",
    "objects = [l for l in sgb_lecture_journal.index]\n",
    "eff = [l for l in sgb_lecture_journal.values]\n",
    "\n",
    "\n",
    "objects = [l for l in df_lecture_journal.sort_values('code_lecture')['lecture']]\n",
    "eff = [l for l in df_lecture_journal.sort_values('code_lecture')['effectif']]\n",
    "\n",
    "p1 = plt.bar(objects, eff, width=0.3)\n",
    "\n",
    "#plt.xticks(l5Years)\n",
    "plt.ylabel('Effectif')\n",
    "plt.title('Effectif par lecture du journal')\n",
    "plt.gcf().set_size_inches(16, 8)\n",
    "#plt.gca().axes.get_xaxis().set_visible(False)\n",
    "# supported formats: eps, pdf, pgf, png, ps, raw, rgba, svg, svgz\n",
    "#plt.savefig('exported_pictures/effectifs_naissances_par_annee.png', dpi=100, bbox_inches = \"tight\") #pdf, svg\n",
    "plt.xticks(rotation=45)\n",
    "plt.show()\n"
   ]
  },
  {
   "cell_type": "code",
   "execution_count": 107,
   "id": "prompt-screening",
   "metadata": {
    "tags": []
   },
   "outputs": [
    {
     "data": {
      "image/png": "[encoded data removed]",
      "text/plain": [
       "<Figure size 1152x576 with 1 Axes>"
      ]
     },
     "metadata": {},
     "output_type": "display_data"
    }
   ],
   "source": [
    "# Distribution par lecture journal: fréquence cumulée\n",
    "\n",
    "objects = [l for l in sgb_lecture_journal.index]\n",
    "eff = [l for l in sgb_lecture_journal.values]\n",
    "\n",
    "\n",
    "objects = [l for l in df_lecture_journal['lecture']]\n",
    "eff = [l for l in df_lecture_journal['frequence_cumulee']]\n",
    "\n",
    "p1 = plt.bar(objects, eff, width=0.4)\n",
    "\n",
    "#plt.xticks(l5Years)\n",
    "plt.ylabel('Fréquence cumulée')\n",
    "plt.title('Fréquence cumulée par lecture du journal')\n",
    "plt.gcf().set_size_inches(16, 8)\n",
    "#plt.gca().axes.get_xaxis().set_visible(False)\n",
    "# supported formats: eps, pdf, pgf, png, ps, raw, rgba, svg, svgz\n",
    "#plt.savefig('exported_pictures/effectifs_naissances_par_annee.png', dpi=100, bbox_inches = \"tight\") #pdf, svg\n",
    "plt.xticks(rotation=45)\n",
    "plt.show()\n"
   ]
  },
  {
   "cell_type": "code",
   "execution_count": 108,
   "id": "fab5b700-9d28-4e5b-aae2-9394e4a62ddc",
   "metadata": {},
   "outputs": [
    {
     "data": {
      "text/html": [
       "<div>\n",
       "<style scoped>\n",
       "    .dataframe tbody tr th:only-of-type {\n",
       "        vertical-align: middle;\n",
       "    }\n",
       "\n",
       "    .dataframe tbody tr th {\n",
       "        vertical-align: top;\n",
       "    }\n",
       "\n",
       "    .dataframe thead th {\n",
       "        text-align: right;\n",
       "    }\n",
       "</style>\n",
       "<table border=\"1\" class=\"dataframe\">\n",
       "  <thead>\n",
       "    <tr style=\"text-align: right;\">\n",
       "      <th></th>\n",
       "      <th>age</th>\n",
       "      <th>n_foyer</th>\n",
       "      <th>lecture_journal</th>\n",
       "      <th>parti</th>\n",
       "      <th>revenu_mensuel</th>\n",
       "    </tr>\n",
       "    <tr>\n",
       "      <th>id</th>\n",
       "      <th></th>\n",
       "      <th></th>\n",
       "      <th></th>\n",
       "      <th></th>\n",
       "      <th></th>\n",
       "    </tr>\n",
       "  </thead>\n",
       "  <tbody>\n",
       "    <tr>\n",
       "      <th>1</th>\n",
       "      <td>44</td>\n",
       "      <td>3</td>\n",
       "      <td>de temps en temps</td>\n",
       "      <td>droite</td>\n",
       "      <td>9660</td>\n",
       "    </tr>\n",
       "    <tr>\n",
       "      <th>2</th>\n",
       "      <td>45</td>\n",
       "      <td>1</td>\n",
       "      <td>tous les jours</td>\n",
       "      <td>droite</td>\n",
       "      <td>7364</td>\n",
       "    </tr>\n",
       "    <tr>\n",
       "      <th>3</th>\n",
       "      <td>54</td>\n",
       "      <td>3</td>\n",
       "      <td>de temps en temps</td>\n",
       "      <td>droite</td>\n",
       "      <td>8947</td>\n",
       "    </tr>\n",
       "    <tr>\n",
       "      <th>4</th>\n",
       "      <td>86</td>\n",
       "      <td>2</td>\n",
       "      <td>tous les jours</td>\n",
       "      <td>populiste</td>\n",
       "      <td>6317</td>\n",
       "    </tr>\n",
       "    <tr>\n",
       "      <th>5</th>\n",
       "      <td>77</td>\n",
       "      <td>2</td>\n",
       "      <td>tous les jours</td>\n",
       "      <td>gauche</td>\n",
       "      <td>6511</td>\n",
       "    </tr>\n",
       "  </tbody>\n",
       "</table>\n",
       "</div>"
      ],
      "text/plain": [
       "    age  n_foyer    lecture_journal      parti  revenu_mensuel\n",
       "id                                                            \n",
       "1    44        3  de temps en temps     droite            9660\n",
       "2    45        1     tous les jours     droite            7364\n",
       "3    54        3  de temps en temps     droite            8947\n",
       "4    86        2     tous les jours  populiste            6317\n",
       "5    77        2     tous les jours     gauche            6511"
      ]
     },
     "execution_count": 108,
     "metadata": {},
     "output_type": "execute_result"
    }
   ],
   "source": [
    "obs.head()"
   ]
  },
  {
   "cell_type": "code",
   "execution_count": 109,
   "id": "f8729f45-3f7a-4f35-8a60-dd5e7815e2e0",
   "metadata": {},
   "outputs": [
    {
     "data": {
      "text/html": [
       "<div>\n",
       "<style scoped>\n",
       "    .dataframe tbody tr th:only-of-type {\n",
       "        vertical-align: middle;\n",
       "    }\n",
       "\n",
       "    .dataframe tbody tr th {\n",
       "        vertical-align: top;\n",
       "    }\n",
       "\n",
       "    .dataframe thead th {\n",
       "        text-align: right;\n",
       "    }\n",
       "</style>\n",
       "<table border=\"1\" class=\"dataframe\">\n",
       "  <thead>\n",
       "    <tr style=\"text-align: right;\">\n",
       "      <th></th>\n",
       "      <th>age</th>\n",
       "      <th>n_foyer</th>\n",
       "      <th>lecture_journal</th>\n",
       "      <th>parti</th>\n",
       "      <th>revenu_mensuel</th>\n",
       "      <th>lecture_journal_codes</th>\n",
       "    </tr>\n",
       "    <tr>\n",
       "      <th>id</th>\n",
       "      <th></th>\n",
       "      <th></th>\n",
       "      <th></th>\n",
       "      <th></th>\n",
       "      <th></th>\n",
       "      <th></th>\n",
       "    </tr>\n",
       "  </thead>\n",
       "  <tbody>\n",
       "    <tr>\n",
       "      <th>1</th>\n",
       "      <td>44</td>\n",
       "      <td>3</td>\n",
       "      <td>de temps en temps</td>\n",
       "      <td>droite</td>\n",
       "      <td>9660</td>\n",
       "      <td>2</td>\n",
       "    </tr>\n",
       "    <tr>\n",
       "      <th>2</th>\n",
       "      <td>45</td>\n",
       "      <td>1</td>\n",
       "      <td>tous les jours</td>\n",
       "      <td>droite</td>\n",
       "      <td>7364</td>\n",
       "      <td>5</td>\n",
       "    </tr>\n",
       "    <tr>\n",
       "      <th>3</th>\n",
       "      <td>54</td>\n",
       "      <td>3</td>\n",
       "      <td>de temps en temps</td>\n",
       "      <td>droite</td>\n",
       "      <td>8947</td>\n",
       "      <td>2</td>\n",
       "    </tr>\n",
       "    <tr>\n",
       "      <th>4</th>\n",
       "      <td>86</td>\n",
       "      <td>2</td>\n",
       "      <td>tous les jours</td>\n",
       "      <td>populiste</td>\n",
       "      <td>6317</td>\n",
       "      <td>5</td>\n",
       "    </tr>\n",
       "    <tr>\n",
       "      <th>5</th>\n",
       "      <td>77</td>\n",
       "      <td>2</td>\n",
       "      <td>tous les jours</td>\n",
       "      <td>gauche</td>\n",
       "      <td>6511</td>\n",
       "      <td>5</td>\n",
       "    </tr>\n",
       "  </tbody>\n",
       "</table>\n",
       "</div>"
      ],
      "text/plain": [
       "    age  n_foyer    lecture_journal      parti  revenu_mensuel  \\\n",
       "id                                                               \n",
       "1    44        3  de temps en temps     droite            9660   \n",
       "2    45        1     tous les jours     droite            7364   \n",
       "3    54        3  de temps en temps     droite            8947   \n",
       "4    86        2     tous les jours  populiste            6317   \n",
       "5    77        2     tous les jours     gauche            6511   \n",
       "\n",
       "    lecture_journal_codes  \n",
       "id                         \n",
       "1                       2  \n",
       "2                       5  \n",
       "3                       2  \n",
       "4                       5  \n",
       "5                       5  "
      ]
     },
     "execution_count": 109,
     "metadata": {},
     "output_type": "execute_result"
    }
   ],
   "source": [
    "###  https://pandas.pydata.org/pandas-docs/stable/reference/api/pandas.DataFrame.replace.html\n",
    "obs['lecture_journal_codes'] = obs['lecture_journal']\\\n",
    "    .replace(['très rarement','de temps en temps','le week-end','trois-quatre fois par semaine','tous les jours'],[1,2,3,4,5])\n",
    "obs.head()"
   ]
  },
  {
   "cell_type": "code",
   "execution_count": 111,
   "id": "65ef7d35-2498-4141-86f1-05d5daec75a5",
   "metadata": {},
   "outputs": [
    {
     "data": {
      "text/plain": [
       "(1.0, 5.0)"
      ]
     },
     "execution_count": 111,
     "metadata": {},
     "output_type": "execute_result"
    },
    {
     "data": {
      "image/png": "[encoded data removed]",
      "text/plain": [
       "<Figure size 1440x432 with 1 Axes>"
      ]
     },
     "metadata": {},
     "output_type": "display_data"
    }
   ],
   "source": [
    "### Ce violin plot n'a pas beaucoup de sens et en doit pas être utilisé\n",
    "#  car les densitées des points intermédiaires (qui n'existent pas) sont trompeuses\n",
    "# Adapté pour les variables continues, le violin plot l'est bien moins pour les \n",
    "# variables numériques discrètres ordonnées comme dans le cas présent\n",
    "\n",
    "sns.set_theme(style=\"whitegrid\")\n",
    "\n",
    "sns.set(rc={\"figure.figsize\":(20, 6)})\n",
    "\n",
    "l = obs[\"lecture_journal_codes\"]\n",
    "\n",
    "ax = sns.violinplot(x=l)\n",
    "ax.set_xlim(left=min(l), right=max(l))\n",
    "\n"
   ]
  },
  {
   "cell_type": "markdown",
   "id": "sticky-crack",
   "metadata": {},
   "source": [
    "# Comparaison de deux variables quantitatives"
   ]
  },
  {
   "cell_type": "code",
   "execution_count": 29,
   "id": "amended-organizer",
   "metadata": {},
   "outputs": [
    {
     "data": {
      "text/html": [
       "<div>\n",
       "<style scoped>\n",
       "    .dataframe tbody tr th:only-of-type {\n",
       "        vertical-align: middle;\n",
       "    }\n",
       "\n",
       "    .dataframe tbody tr th {\n",
       "        vertical-align: top;\n",
       "    }\n",
       "\n",
       "    .dataframe thead th {\n",
       "        text-align: right;\n",
       "    }\n",
       "</style>\n",
       "<table border=\"1\" class=\"dataframe\">\n",
       "  <thead>\n",
       "    <tr style=\"text-align: right;\">\n",
       "      <th></th>\n",
       "      <th>age</th>\n",
       "      <th>n_foyer</th>\n",
       "      <th>lecture_journal</th>\n",
       "      <th>parti</th>\n",
       "      <th>revenu_mensuel</th>\n",
       "    </tr>\n",
       "    <tr>\n",
       "      <th>id</th>\n",
       "      <th></th>\n",
       "      <th></th>\n",
       "      <th></th>\n",
       "      <th></th>\n",
       "      <th></th>\n",
       "    </tr>\n",
       "  </thead>\n",
       "  <tbody>\n",
       "    <tr>\n",
       "      <th>1</th>\n",
       "      <td>44</td>\n",
       "      <td>3</td>\n",
       "      <td>de temps en temps</td>\n",
       "      <td>droite</td>\n",
       "      <td>9660</td>\n",
       "    </tr>\n",
       "    <tr>\n",
       "      <th>2</th>\n",
       "      <td>45</td>\n",
       "      <td>1</td>\n",
       "      <td>tous les jours</td>\n",
       "      <td>droite</td>\n",
       "      <td>7364</td>\n",
       "    </tr>\n",
       "    <tr>\n",
       "      <th>3</th>\n",
       "      <td>54</td>\n",
       "      <td>3</td>\n",
       "      <td>de temps en temps</td>\n",
       "      <td>droite</td>\n",
       "      <td>8947</td>\n",
       "    </tr>\n",
       "    <tr>\n",
       "      <th>4</th>\n",
       "      <td>86</td>\n",
       "      <td>2</td>\n",
       "      <td>tous les jours</td>\n",
       "      <td>populiste</td>\n",
       "      <td>6317</td>\n",
       "    </tr>\n",
       "    <tr>\n",
       "      <th>5</th>\n",
       "      <td>77</td>\n",
       "      <td>2</td>\n",
       "      <td>tous les jours</td>\n",
       "      <td>gauche</td>\n",
       "      <td>6511</td>\n",
       "    </tr>\n",
       "  </tbody>\n",
       "</table>\n",
       "</div>"
      ],
      "text/plain": [
       "    age  n_foyer    lecture_journal      parti  revenu_mensuel\n",
       "id                                                            \n",
       "1    44        3  de temps en temps     droite            9660\n",
       "2    45        1     tous les jours     droite            7364\n",
       "3    54        3  de temps en temps     droite            8947\n",
       "4    86        2     tous les jours  populiste            6317\n",
       "5    77        2     tous les jours     gauche            6511"
      ]
     },
     "execution_count": 29,
     "metadata": {},
     "output_type": "execute_result"
    }
   ],
   "source": [
    "obs.head()"
   ]
  },
  {
   "cell_type": "code",
   "execution_count": 30,
   "id": "junior-cooking",
   "metadata": {},
   "outputs": [
    {
     "data": {
      "text/plain": [
       "count    130.000000\n",
       "mean       2.153846\n",
       "std        1.171109\n",
       "min        1.000000\n",
       "25%        1.000000\n",
       "50%        2.000000\n",
       "75%        3.000000\n",
       "max        6.000000\n",
       "Name: n_foyer, dtype: float64"
      ]
     },
     "execution_count": 30,
     "metadata": {},
     "output_type": "execute_result"
    }
   ],
   "source": [
    "obs['n_foyer'].describe()"
   ]
  },
  {
   "cell_type": "code",
   "execution_count": 31,
   "id": "still-america",
   "metadata": {},
   "outputs": [
    {
     "data": {
      "text/plain": [
       "<AxesSubplot:>"
      ]
     },
     "execution_count": 31,
     "metadata": {},
     "output_type": "execute_result"
    },
    {
     "data": {
      "image/png": "[encoded data removed]",
      "text/plain": [
       "<Figure size 1152x288 with 1 Axes>"
      ]
     },
     "metadata": {
      "needs_background": "light"
     },
     "output_type": "display_data"
    }
   ],
   "source": [
    "obs.boxplot(column=['n_foyer'], vert=False, figsize=(16,4))"
   ]
  },
  {
   "cell_type": "code",
   "execution_count": 32,
   "id": "bearing-clinton",
   "metadata": {},
   "outputs": [
    {
     "data": {
      "text/plain": [
       "count      130.000000\n",
       "mean      7048.969231\n",
       "std       2553.219472\n",
       "min       1400.000000\n",
       "25%       5007.000000\n",
       "50%       7383.500000\n",
       "75%       9016.500000\n",
       "max      11728.000000\n",
       "Name: revenu_mensuel, dtype: float64"
      ]
     },
     "execution_count": 32,
     "metadata": {},
     "output_type": "execute_result"
    }
   ],
   "source": [
    "obs['revenu_mensuel'].describe()"
   ]
  },
  {
   "cell_type": "code",
   "execution_count": 33,
   "id": "leading-player",
   "metadata": {},
   "outputs": [
    {
     "data": {
      "text/plain": [
       "<AxesSubplot:>"
      ]
     },
     "execution_count": 33,
     "metadata": {},
     "output_type": "execute_result"
    },
    {
     "data": {
      "image/png": "[encoded data removed]",
      "text/plain": [
       "<Figure size 1152x288 with 1 Axes>"
      ]
     },
     "metadata": {
      "needs_background": "light"
     },
     "output_type": "display_data"
    }
   ],
   "source": [
    "obs.boxplot(column=['revenu_mensuel'], vert=False, figsize=(16,4))"
   ]
  },
  {
   "cell_type": "code",
   "execution_count": null,
   "id": "strange-mount",
   "metadata": {},
   "outputs": [],
   "source": []
  },
  {
   "cell_type": "code",
   "execution_count": 34,
   "id": "changed-variance",
   "metadata": {},
   "outputs": [
    {
     "data": {
      "text/plain": [
       "[<matplotlib.lines.Line2D at 0x15adb00d0>]"
      ]
     },
     "execution_count": 34,
     "metadata": {},
     "output_type": "execute_result"
    },
    {
     "data": {
      "image/png": "[encoded data removed]",
      "text/plain": [
       "<Figure size 1008x504 with 1 Axes>"
      ]
     },
     "metadata": {
      "needs_background": "light"
     },
     "output_type": "display_data"
    }
   ],
   "source": [
    "## Nuage de points avec droite de régression\n",
    "# https://www.kite.com/python/answers/how-to-plot-a-linear-regression-line-on-a-scatter-plot-in-python\n",
    "\n",
    "x = np.array(obs['age'])\n",
    "y = np.array(obs['revenu_mensuel'])\n",
    "\n",
    "\n",
    "plt.rcParams[\"figure.figsize\"] = [14, 7]\n",
    "\n",
    "plt.plot(x, y, 'o')\n",
    "plt.title(\"Comparaison de l'âge et des revenus\")\n",
    "\n",
    "\n",
    "# m = slope, b=intercept\n",
    "m, b = np.polyfit(x, y, 1)\n",
    "\n",
    "plt.plot(x, m*x + b)\n"
   ]
  },
  {
   "cell_type": "code",
   "execution_count": 35,
   "id": "strange-christian",
   "metadata": {},
   "outputs": [
    {
     "data": {
      "text/plain": [
       "0.08388479691005621"
      ]
     },
     "execution_count": 35,
     "metadata": {},
     "output_type": "execute_result"
    }
   ],
   "source": [
    "### Coéfficient de corrélation de Pearsons \n",
    "# https://numpy.org/doc/stable/reference/generated/numpy.corrcoef.html\n",
    "np.corrcoef([x,y])[1][0]"
   ]
  },
  {
   "cell_type": "code",
   "execution_count": 36,
   "id": "geographic-sensitivity",
   "metadata": {},
   "outputs": [
    {
     "data": {
      "text/plain": [
       "[<matplotlib.lines.Line2D at 0x15ab80490>]"
      ]
     },
     "execution_count": 36,
     "metadata": {},
     "output_type": "execute_result"
    },
    {
     "data": {
      "image/png": "[encoded data removed]",
      "text/plain": [
       "<Figure size 1008x504 with 1 Axes>"
      ]
     },
     "metadata": {
      "needs_background": "light"
     },
     "output_type": "display_data"
    }
   ],
   "source": [
    "x = np.array(obs['n_foyer'])\n",
    "y = np.array(obs['revenu_mensuel'])\n",
    "\n",
    "plt.rcParams[\"figure.figsize\"] = [14, 7]\n",
    "\n",
    "plt.plot(x, y, 'o')\n",
    "\n",
    "\n",
    "# m = slope, b=intercept\n",
    "m, b = np.polyfit(x, y, 1)\n",
    "\n",
    "plt.plot(x, m*x + b)"
   ]
  },
  {
   "cell_type": "code",
   "execution_count": 37,
   "id": "hispanic-niagara",
   "metadata": {},
   "outputs": [
    {
     "data": {
      "text/plain": [
       "0.42123680524320944"
      ]
     },
     "execution_count": 37,
     "metadata": {},
     "output_type": "execute_result"
    }
   ],
   "source": [
    "### Pearson Correlation Coefficient\n",
    "# https://www.statology.org/pearson-correlation-coefficient/\n",
    "\n",
    "r = np.corrcoef([x,y])[0][1]\n",
    "r"
   ]
  },
  {
   "cell_type": "code",
   "execution_count": 38,
   "id": "attempted-chess",
   "metadata": {},
   "outputs": [
    {
     "data": {
      "text/plain": [
       "130"
      ]
     },
     "execution_count": 38,
     "metadata": {},
     "output_type": "execute_result"
    }
   ],
   "source": [
    "len(obs)"
   ]
  },
  {
   "cell_type": "code",
   "execution_count": null,
   "id": "homeless-highway",
   "metadata": {},
   "outputs": [],
   "source": []
  },
  {
   "cell_type": "code",
   "execution_count": 39,
   "id": "skilled-equipment",
   "metadata": {},
   "outputs": [
    {
     "data": {
      "text/plain": [
       "6.264419640438374"
      ]
     },
     "execution_count": 39,
     "metadata": {},
     "output_type": "execute_result"
    }
   ],
   "source": [
    "### https://www.statology.org/pearson-correlation-coefficient/\n",
    "T = r * np.sqrt((len(obs)-2) / (1-r))\n",
    "T"
   ]
  },
  {
   "cell_type": "code",
   "execution_count": 40,
   "id": "narrow-visibility",
   "metadata": {},
   "outputs": [],
   "source": [
    "### p value\n",
    "# https://www.statology.org/t-score-p-value-calculator/\n"
   ]
  },
  {
   "cell_type": "markdown",
   "id": "another-emerald",
   "metadata": {},
   "source": [
    "# Variable qualitative et quantitative"
   ]
  },
  {
   "cell_type": "code",
   "execution_count": 41,
   "id": "wound-savannah",
   "metadata": {},
   "outputs": [
    {
     "data": {
      "text/plain": [
       "Text(0, 0.5, 'Parti politique')"
      ]
     },
     "execution_count": 41,
     "metadata": {},
     "output_type": "execute_result"
    },
    {
     "data": {
      "image/png": "[encoded data removed]",
      "text/plain": [
       "<Figure size 1152x288 with 1 Axes>"
      ]
     },
     "metadata": {
      "needs_background": "light"
     },
     "output_type": "display_data"
    }
   ],
   "source": [
    "axes = obs.boxplot(column=['revenu_mensuel'],by=['parti'], vert=False, figsize=(16,4))\n",
    "\n",
    "fig = axes.get_figure()\n",
    "\n",
    "fig.suptitle('')\n",
    "    \n",
    "axes.set_title('Distribution des revenus par parti politique')\n",
    "\n",
    "axes.set_xlabel('Revenu')\n",
    "axes.set_ylabel('Parti politique')\n"
   ]
  },
  {
   "cell_type": "code",
   "execution_count": 42,
   "id": "suited-quality",
   "metadata": {},
   "outputs": [
    {
     "data": {
      "text/plain": [
       "count       30.000000\n",
       "mean      6998.600000\n",
       "std       2600.905049\n",
       "min       2500.000000\n",
       "25%       5036.750000\n",
       "50%       6447.000000\n",
       "75%       9494.250000\n",
       "max      11728.000000\n",
       "Name: revenu_mensuel, dtype: float64"
      ]
     },
     "execution_count": 42,
     "metadata": {},
     "output_type": "execute_result"
    }
   ],
   "source": [
    "obs[obs['parti'] == 'populiste']['revenu_mensuel'].describe()"
   ]
  },
  {
   "cell_type": "code",
   "execution_count": null,
   "id": "clinical-triple",
   "metadata": {},
   "outputs": [],
   "source": []
  },
  {
   "cell_type": "markdown",
   "id": "absolute-introduction",
   "metadata": {},
   "source": [
    "# Deux variables qualitatives\n",
    "\n",
    "\n",
    "* Hamon, Chapitre 4, 99-111\n"
   ]
  },
  {
   "cell_type": "code",
   "execution_count": 43,
   "id": "metric-pillow",
   "metadata": {},
   "outputs": [
    {
     "data": {
      "text/html": [
       "<div>\n",
       "<style scoped>\n",
       "    .dataframe tbody tr th:only-of-type {\n",
       "        vertical-align: middle;\n",
       "    }\n",
       "\n",
       "    .dataframe tbody tr th {\n",
       "        vertical-align: top;\n",
       "    }\n",
       "\n",
       "    .dataframe thead th {\n",
       "        text-align: right;\n",
       "    }\n",
       "</style>\n",
       "<table border=\"1\" class=\"dataframe\">\n",
       "  <thead>\n",
       "    <tr style=\"text-align: right;\">\n",
       "      <th></th>\n",
       "      <th>age</th>\n",
       "      <th>n_foyer</th>\n",
       "      <th>lecture_journal</th>\n",
       "      <th>parti</th>\n",
       "      <th>revenu_mensuel</th>\n",
       "      <th>generation</th>\n",
       "    </tr>\n",
       "    <tr>\n",
       "      <th>id</th>\n",
       "      <th></th>\n",
       "      <th></th>\n",
       "      <th></th>\n",
       "      <th></th>\n",
       "      <th></th>\n",
       "      <th></th>\n",
       "    </tr>\n",
       "  </thead>\n",
       "  <tbody>\n",
       "    <tr>\n",
       "      <th>1</th>\n",
       "      <td>44</td>\n",
       "      <td>3</td>\n",
       "      <td>de temps en temps</td>\n",
       "      <td>droite</td>\n",
       "      <td>9660</td>\n",
       "      <td>41-61</td>\n",
       "    </tr>\n",
       "    <tr>\n",
       "      <th>2</th>\n",
       "      <td>45</td>\n",
       "      <td>1</td>\n",
       "      <td>tous les jours</td>\n",
       "      <td>droite</td>\n",
       "      <td>7364</td>\n",
       "      <td>41-61</td>\n",
       "    </tr>\n",
       "    <tr>\n",
       "      <th>3</th>\n",
       "      <td>54</td>\n",
       "      <td>3</td>\n",
       "      <td>de temps en temps</td>\n",
       "      <td>droite</td>\n",
       "      <td>8947</td>\n",
       "      <td>41-61</td>\n",
       "    </tr>\n",
       "    <tr>\n",
       "      <th>4</th>\n",
       "      <td>86</td>\n",
       "      <td>2</td>\n",
       "      <td>tous les jours</td>\n",
       "      <td>populiste</td>\n",
       "      <td>6317</td>\n",
       "      <td>81-101</td>\n",
       "    </tr>\n",
       "    <tr>\n",
       "      <th>5</th>\n",
       "      <td>77</td>\n",
       "      <td>2</td>\n",
       "      <td>tous les jours</td>\n",
       "      <td>gauche</td>\n",
       "      <td>6511</td>\n",
       "      <td>61-81</td>\n",
       "    </tr>\n",
       "  </tbody>\n",
       "</table>\n",
       "</div>"
      ],
      "text/plain": [
       "    age  n_foyer    lecture_journal      parti  revenu_mensuel generation\n",
       "id                                                                       \n",
       "1    44        3  de temps en temps     droite            9660      41-61\n",
       "2    45        1     tous les jours     droite            7364      41-61\n",
       "3    54        3  de temps en temps     droite            8947      41-61\n",
       "4    86        2     tous les jours  populiste            6317     81-101\n",
       "5    77        2     tous les jours     gauche            6511      61-81"
      ]
     },
     "execution_count": 43,
     "metadata": {},
     "output_type": "execute_result"
    }
   ],
   "source": [
    "c_obs.head()"
   ]
  },
  {
   "cell_type": "markdown",
   "id": "specific-tomato",
   "metadata": {},
   "source": [
    "### Tableau de contingence"
   ]
  },
  {
   "cell_type": "code",
   "execution_count": 44,
   "id": "distinct-screw",
   "metadata": {},
   "outputs": [],
   "source": [
    "### Le type d'origine est 'category' il faut transformer en 'str'\n",
    "##  pour éviter le message d'erreur en créant la pivot_table\n",
    "c_obs['generation']= c_obs['generation'].astype(str)"
   ]
  },
  {
   "cell_type": "code",
   "execution_count": 45,
   "id": "assisted-advancement",
   "metadata": {},
   "outputs": [
    {
     "data": {
      "text/html": [
       "<div>\n",
       "<style scoped>\n",
       "    .dataframe tbody tr th:only-of-type {\n",
       "        vertical-align: middle;\n",
       "    }\n",
       "\n",
       "    .dataframe tbody tr th {\n",
       "        vertical-align: top;\n",
       "    }\n",
       "\n",
       "    .dataframe thead th {\n",
       "        text-align: right;\n",
       "    }\n",
       "</style>\n",
       "<table border=\"1\" class=\"dataframe\">\n",
       "  <thead>\n",
       "    <tr style=\"text-align: right;\">\n",
       "      <th>parti</th>\n",
       "      <th>centre</th>\n",
       "      <th>droite</th>\n",
       "      <th>gauche</th>\n",
       "      <th>populiste</th>\n",
       "      <th>écologiste</th>\n",
       "      <th>Total</th>\n",
       "    </tr>\n",
       "    <tr>\n",
       "      <th>generation</th>\n",
       "      <th></th>\n",
       "      <th></th>\n",
       "      <th></th>\n",
       "      <th></th>\n",
       "      <th></th>\n",
       "      <th></th>\n",
       "    </tr>\n",
       "  </thead>\n",
       "  <tbody>\n",
       "    <tr>\n",
       "      <th>0-21</th>\n",
       "      <td>2</td>\n",
       "      <td>2</td>\n",
       "      <td>1</td>\n",
       "      <td>0</td>\n",
       "      <td>2</td>\n",
       "      <td>7</td>\n",
       "    </tr>\n",
       "    <tr>\n",
       "      <th>21-41</th>\n",
       "      <td>3</td>\n",
       "      <td>3</td>\n",
       "      <td>12</td>\n",
       "      <td>8</td>\n",
       "      <td>21</td>\n",
       "      <td>47</td>\n",
       "    </tr>\n",
       "    <tr>\n",
       "      <th>41-61</th>\n",
       "      <td>6</td>\n",
       "      <td>8</td>\n",
       "      <td>4</td>\n",
       "      <td>10</td>\n",
       "      <td>5</td>\n",
       "      <td>33</td>\n",
       "    </tr>\n",
       "    <tr>\n",
       "      <th>61-81</th>\n",
       "      <td>12</td>\n",
       "      <td>3</td>\n",
       "      <td>5</td>\n",
       "      <td>7</td>\n",
       "      <td>6</td>\n",
       "      <td>33</td>\n",
       "    </tr>\n",
       "    <tr>\n",
       "      <th>81-101</th>\n",
       "      <td>2</td>\n",
       "      <td>2</td>\n",
       "      <td>1</td>\n",
       "      <td>5</td>\n",
       "      <td>0</td>\n",
       "      <td>10</td>\n",
       "    </tr>\n",
       "    <tr>\n",
       "      <th>Total</th>\n",
       "      <td>25</td>\n",
       "      <td>18</td>\n",
       "      <td>23</td>\n",
       "      <td>30</td>\n",
       "      <td>34</td>\n",
       "      <td>130</td>\n",
       "    </tr>\n",
       "  </tbody>\n",
       "</table>\n",
       "</div>"
      ],
      "text/plain": [
       "parti       centre  droite  gauche  populiste  écologiste  Total\n",
       "generation                                                      \n",
       "0-21             2       2       1          0           2      7\n",
       "21-41            3       3      12          8          21     47\n",
       "41-61            6       8       4         10           5     33\n",
       "61-81           12       3       5          7           6     33\n",
       "81-101           2       2       1          5           0     10\n",
       "Total           25      18      23         30          34    130"
      ]
     },
     "execution_count": 45,
     "metadata": {},
     "output_type": "execute_result"
    }
   ],
   "source": [
    "### La fonction pivot_table produit un tableau de contingence\n",
    "## Au centre du tableau se trouvent les effectifs conjoints, \n",
    "## aux bords les effectifs marginaux qui correspondent \n",
    "## aux distributions indépendantes des variables\n",
    "\n",
    "X = \"parti\"  # \"0\"\n",
    "Y = \"generation\"\n",
    "\n",
    "c_obs_parti_generation = c_obs[[Y,X]].pivot_table(index=Y,columns=X,aggfunc=len,margins=True,margins_name=\"Total\").fillna(0).astype(int)\n",
    "c_obs_parti_generation"
   ]
  },
  {
   "cell_type": "code",
   "execution_count": 46,
   "id": "challenging-orchestra",
   "metadata": {
    "tags": []
   },
   "outputs": [
    {
     "data": {
      "text/html": [
       "<div>\n",
       "<style scoped>\n",
       "    .dataframe tbody tr th:only-of-type {\n",
       "        vertical-align: middle;\n",
       "    }\n",
       "\n",
       "    .dataframe tbody tr th {\n",
       "        vertical-align: top;\n",
       "    }\n",
       "\n",
       "    .dataframe thead th {\n",
       "        text-align: right;\n",
       "    }\n",
       "</style>\n",
       "<table border=\"1\" class=\"dataframe\">\n",
       "  <thead>\n",
       "    <tr style=\"text-align: right;\">\n",
       "      <th>parti</th>\n",
       "      <th>centre</th>\n",
       "      <th>droite</th>\n",
       "      <th>gauche</th>\n",
       "      <th>populiste</th>\n",
       "      <th>écologiste</th>\n",
       "      <th>Total</th>\n",
       "    </tr>\n",
       "    <tr>\n",
       "      <th>generation</th>\n",
       "      <th></th>\n",
       "      <th></th>\n",
       "      <th></th>\n",
       "      <th></th>\n",
       "      <th></th>\n",
       "      <th></th>\n",
       "    </tr>\n",
       "  </thead>\n",
       "  <tbody>\n",
       "    <tr>\n",
       "      <th>0-21</th>\n",
       "      <td>1.5</td>\n",
       "      <td>1.5</td>\n",
       "      <td>0.8</td>\n",
       "      <td>0.0</td>\n",
       "      <td>1.5</td>\n",
       "      <td>5.4</td>\n",
       "    </tr>\n",
       "    <tr>\n",
       "      <th>21-41</th>\n",
       "      <td>2.3</td>\n",
       "      <td>2.3</td>\n",
       "      <td>9.2</td>\n",
       "      <td>6.2</td>\n",
       "      <td>16.2</td>\n",
       "      <td>36.2</td>\n",
       "    </tr>\n",
       "    <tr>\n",
       "      <th>41-61</th>\n",
       "      <td>4.6</td>\n",
       "      <td>6.2</td>\n",
       "      <td>3.1</td>\n",
       "      <td>7.7</td>\n",
       "      <td>3.8</td>\n",
       "      <td>25.4</td>\n",
       "    </tr>\n",
       "    <tr>\n",
       "      <th>61-81</th>\n",
       "      <td>9.2</td>\n",
       "      <td>2.3</td>\n",
       "      <td>3.8</td>\n",
       "      <td>5.4</td>\n",
       "      <td>4.6</td>\n",
       "      <td>25.4</td>\n",
       "    </tr>\n",
       "    <tr>\n",
       "      <th>81-101</th>\n",
       "      <td>1.5</td>\n",
       "      <td>1.5</td>\n",
       "      <td>0.8</td>\n",
       "      <td>3.8</td>\n",
       "      <td>0.0</td>\n",
       "      <td>7.7</td>\n",
       "    </tr>\n",
       "    <tr>\n",
       "      <th>Total</th>\n",
       "      <td>19.2</td>\n",
       "      <td>13.8</td>\n",
       "      <td>17.7</td>\n",
       "      <td>23.1</td>\n",
       "      <td>26.2</td>\n",
       "      <td>100.0</td>\n",
       "    </tr>\n",
       "  </tbody>\n",
       "</table>\n",
       "</div>"
      ],
      "text/plain": [
       "parti       centre  droite  gauche  populiste  écologiste  Total\n",
       "generation                                                      \n",
       "0-21           1.5     1.5     0.8        0.0         1.5    5.4\n",
       "21-41          2.3     2.3     9.2        6.2        16.2   36.2\n",
       "41-61          4.6     6.2     3.1        7.7         3.8   25.4\n",
       "61-81          9.2     2.3     3.8        5.4         4.6   25.4\n",
       "81-101         1.5     1.5     0.8        3.8         0.0    7.7\n",
       "Total         19.2    13.8    17.7       23.1        26.2  100.0"
      ]
     },
     "execution_count": 46,
     "metadata": {},
     "output_type": "execute_result"
    }
   ],
   "source": [
    "### Fréquence conjointe et fréquence marginale (proportion par rapport au total)\n",
    "\n",
    "c_obs_parti_generation_frequence = np.round(c_obs_parti_generation*100/c_obs_parti_generation.iloc[-1,-1],1)\n",
    "c_obs_parti_generation_frequence"
   ]
  },
  {
   "cell_type": "code",
   "execution_count": 47,
   "id": "circular-blake",
   "metadata": {},
   "outputs": [
    {
     "data": {
      "image/png": "[encoded data removed]",
      "text/plain": [
       "<Figure size 1152x720 with 1 Axes>"
      ]
     },
     "metadata": {
      "needs_background": "light"
     },
     "output_type": "display_data"
    }
   ],
   "source": [
    "g = c_obs[[Y,X]].pivot_table(index=Y,columns=X,aggfunc=len) \\\n",
    "        .fillna(0).astype(int).sort_values(by=Y, ascending=False) \\\n",
    "        .plot( kind='barh', stacked=True,  figsize=(16,10),  title = 'Partis par génération')"
   ]
  },
  {
   "cell_type": "code",
   "execution_count": 49,
   "id": "satisfactory-israel",
   "metadata": {},
   "outputs": [
    {
     "data": {
      "text/html": [
       "<div>\n",
       "<style scoped>\n",
       "    .dataframe tbody tr th:only-of-type {\n",
       "        vertical-align: middle;\n",
       "    }\n",
       "\n",
       "    .dataframe tbody tr th {\n",
       "        vertical-align: top;\n",
       "    }\n",
       "\n",
       "    .dataframe thead th {\n",
       "        text-align: right;\n",
       "    }\n",
       "</style>\n",
       "<table border=\"1\" class=\"dataframe\">\n",
       "  <thead>\n",
       "    <tr style=\"text-align: right;\">\n",
       "      <th>parti</th>\n",
       "      <th>centre</th>\n",
       "      <th>droite</th>\n",
       "      <th>gauche</th>\n",
       "      <th>populiste</th>\n",
       "      <th>écologiste</th>\n",
       "      <th>Total</th>\n",
       "    </tr>\n",
       "    <tr>\n",
       "      <th>generation</th>\n",
       "      <th></th>\n",
       "      <th></th>\n",
       "      <th></th>\n",
       "      <th></th>\n",
       "      <th></th>\n",
       "      <th></th>\n",
       "    </tr>\n",
       "  </thead>\n",
       "  <tbody>\n",
       "    <tr>\n",
       "      <th>0-21</th>\n",
       "      <td>28.571429</td>\n",
       "      <td>28.571429</td>\n",
       "      <td>14.285714</td>\n",
       "      <td>0.000000</td>\n",
       "      <td>28.571429</td>\n",
       "      <td>100.0</td>\n",
       "    </tr>\n",
       "    <tr>\n",
       "      <th>21-41</th>\n",
       "      <td>6.382979</td>\n",
       "      <td>6.382979</td>\n",
       "      <td>25.531915</td>\n",
       "      <td>17.021277</td>\n",
       "      <td>44.680851</td>\n",
       "      <td>100.0</td>\n",
       "    </tr>\n",
       "    <tr>\n",
       "      <th>41-61</th>\n",
       "      <td>18.181818</td>\n",
       "      <td>24.242424</td>\n",
       "      <td>12.121212</td>\n",
       "      <td>30.303030</td>\n",
       "      <td>15.151515</td>\n",
       "      <td>100.0</td>\n",
       "    </tr>\n",
       "    <tr>\n",
       "      <th>61-81</th>\n",
       "      <td>36.363636</td>\n",
       "      <td>9.090909</td>\n",
       "      <td>15.151515</td>\n",
       "      <td>21.212121</td>\n",
       "      <td>18.181818</td>\n",
       "      <td>100.0</td>\n",
       "    </tr>\n",
       "    <tr>\n",
       "      <th>81-101</th>\n",
       "      <td>20.000000</td>\n",
       "      <td>20.000000</td>\n",
       "      <td>10.000000</td>\n",
       "      <td>50.000000</td>\n",
       "      <td>0.000000</td>\n",
       "      <td>100.0</td>\n",
       "    </tr>\n",
       "    <tr>\n",
       "      <th>Total</th>\n",
       "      <td>19.230769</td>\n",
       "      <td>13.846154</td>\n",
       "      <td>17.692308</td>\n",
       "      <td>23.076923</td>\n",
       "      <td>26.153846</td>\n",
       "      <td>100.0</td>\n",
       "    </tr>\n",
       "  </tbody>\n",
       "</table>\n",
       "</div>"
      ],
      "text/plain": [
       "parti          centre     droite     gauche  populiste  écologiste  Total\n",
       "generation                                                               \n",
       "0-21        28.571429  28.571429  14.285714   0.000000   28.571429  100.0\n",
       "21-41        6.382979   6.382979  25.531915  17.021277   44.680851  100.0\n",
       "41-61       18.181818  24.242424  12.121212  30.303030   15.151515  100.0\n",
       "61-81       36.363636   9.090909  15.151515  21.212121   18.181818  100.0\n",
       "81-101      20.000000  20.000000  10.000000  50.000000    0.000000  100.0\n",
       "Total       19.230769  13.846154  17.692308  23.076923   26.153846  100.0"
      ]
     },
     "execution_count": 49,
     "metadata": {},
     "output_type": "execute_result"
    }
   ],
   "source": [
    "### https://www.shanelynn.ie/bar-plots-in-python-using-pandas-dataframes/\n",
    "\n",
    "## pourcentages des lignes\n",
    "stacked_data = c_obs_parti_generation.apply(lambda x: x*100/sum(x)*2, axis=1) # axis=0\n",
    "stacked_data"
   ]
  },
  {
   "cell_type": "code",
   "execution_count": 50,
   "id": "rolled-assessment",
   "metadata": {},
   "outputs": [
    {
     "name": "stdout",
     "output_type": "stream",
     "text": [
      "parti          centre     droite     gauche  populiste  écologiste\n",
      "generation                                                        \n",
      "0-21        28.571429  28.571429  14.285714   0.000000   28.571429\n",
      "21-41        6.382979   6.382979  25.531915  17.021277   44.680851\n",
      "41-61       18.181818  24.242424  12.121212  30.303030   15.151515\n",
      "61-81       36.363636   9.090909  15.151515  21.212121   18.181818\n",
      "81-101      20.000000  20.000000  10.000000  50.000000    0.000000\n",
      "Total       19.230769  13.846154  17.692308  23.076923   26.153846\n"
     ]
    },
    {
     "data": {
      "image/png": "[encoded data removed]",
      "text/plain": [
       "<Figure size 1152x720 with 1 Axes>"
      ]
     },
     "metadata": {
      "needs_background": "light"
     },
     "output_type": "display_data"
    }
   ],
   "source": [
    "print(stacked_data.iloc[0:, 0:-1])\n",
    "\n",
    "plot = stacked_data.iloc[0:, 0:-1].sort_values(by=Y, ascending=False)\\\n",
    ".plot(kind=\"barh\", stacked=True, figsize=(16,10), title='Proportion des partis par génération')"
   ]
  },
  {
   "cell_type": "code",
   "execution_count": 51,
   "id": "advisory-twelve",
   "metadata": {
    "tags": []
   },
   "outputs": [
    {
     "data": {
      "text/html": [
       "<div>\n",
       "<style scoped>\n",
       "    .dataframe tbody tr th:only-of-type {\n",
       "        vertical-align: middle;\n",
       "    }\n",
       "\n",
       "    .dataframe tbody tr th {\n",
       "        vertical-align: top;\n",
       "    }\n",
       "\n",
       "    .dataframe thead th {\n",
       "        text-align: right;\n",
       "    }\n",
       "</style>\n",
       "<table border=\"1\" class=\"dataframe\">\n",
       "  <thead>\n",
       "    <tr style=\"text-align: right;\">\n",
       "      <th>generation</th>\n",
       "      <th>0-21</th>\n",
       "      <th>21-41</th>\n",
       "      <th>41-61</th>\n",
       "      <th>61-81</th>\n",
       "      <th>81-101</th>\n",
       "      <th>Total</th>\n",
       "    </tr>\n",
       "    <tr>\n",
       "      <th>parti</th>\n",
       "      <th></th>\n",
       "      <th></th>\n",
       "      <th></th>\n",
       "      <th></th>\n",
       "      <th></th>\n",
       "      <th></th>\n",
       "    </tr>\n",
       "  </thead>\n",
       "  <tbody>\n",
       "    <tr>\n",
       "      <th>centre</th>\n",
       "      <td>8.000000</td>\n",
       "      <td>12.000000</td>\n",
       "      <td>24.000000</td>\n",
       "      <td>48.000000</td>\n",
       "      <td>8.000000</td>\n",
       "      <td>100.0</td>\n",
       "    </tr>\n",
       "    <tr>\n",
       "      <th>droite</th>\n",
       "      <td>11.111111</td>\n",
       "      <td>16.666667</td>\n",
       "      <td>44.444444</td>\n",
       "      <td>16.666667</td>\n",
       "      <td>11.111111</td>\n",
       "      <td>100.0</td>\n",
       "    </tr>\n",
       "    <tr>\n",
       "      <th>gauche</th>\n",
       "      <td>4.347826</td>\n",
       "      <td>52.173913</td>\n",
       "      <td>17.391304</td>\n",
       "      <td>21.739130</td>\n",
       "      <td>4.347826</td>\n",
       "      <td>100.0</td>\n",
       "    </tr>\n",
       "    <tr>\n",
       "      <th>populiste</th>\n",
       "      <td>0.000000</td>\n",
       "      <td>26.666667</td>\n",
       "      <td>33.333333</td>\n",
       "      <td>23.333333</td>\n",
       "      <td>16.666667</td>\n",
       "      <td>100.0</td>\n",
       "    </tr>\n",
       "    <tr>\n",
       "      <th>écologiste</th>\n",
       "      <td>5.882353</td>\n",
       "      <td>61.764706</td>\n",
       "      <td>14.705882</td>\n",
       "      <td>17.647059</td>\n",
       "      <td>0.000000</td>\n",
       "      <td>100.0</td>\n",
       "    </tr>\n",
       "    <tr>\n",
       "      <th>Total</th>\n",
       "      <td>5.384615</td>\n",
       "      <td>36.153846</td>\n",
       "      <td>25.384615</td>\n",
       "      <td>25.384615</td>\n",
       "      <td>7.692308</td>\n",
       "      <td>100.0</td>\n",
       "    </tr>\n",
       "  </tbody>\n",
       "</table>\n",
       "</div>"
      ],
      "text/plain": [
       "generation       0-21      21-41      41-61      61-81     81-101  Total\n",
       "parti                                                                   \n",
       "centre       8.000000  12.000000  24.000000  48.000000   8.000000  100.0\n",
       "droite      11.111111  16.666667  44.444444  16.666667  11.111111  100.0\n",
       "gauche       4.347826  52.173913  17.391304  21.739130   4.347826  100.0\n",
       "populiste    0.000000  26.666667  33.333333  23.333333  16.666667  100.0\n",
       "écologiste   5.882353  61.764706  14.705882  17.647059   0.000000  100.0\n",
       "Total        5.384615  36.153846  25.384615  25.384615   7.692308  100.0"
      ]
     },
     "execution_count": 51,
     "metadata": {},
     "output_type": "execute_result"
    }
   ],
   "source": [
    "### https://www.shanelynn.ie/bar-plots-in-python-using-pandas-dataframes/\n",
    "\n",
    "## pourcentages des colonnes (ou des lignes après avoir interverti les variables dans le tableau)\n",
    "# axis=0 à la place de axis=1\n",
    "stacked_data = c_obs_parti_generation.apply(lambda x: x*100/sum(x)*2, axis=0) # axis=0  1\n",
    "stacked_data.transpose()"
   ]
  },
  {
   "cell_type": "code",
   "execution_count": 52,
   "id": "handed-nurse",
   "metadata": {},
   "outputs": [
    {
     "name": "stdout",
     "output_type": "stream",
     "text": [
      "parti       centre     droite     gauche  populiste  écologiste      Total\n",
      "generation                                                                \n",
      "0-21           8.0  11.111111   4.347826   0.000000    5.882353   5.384615\n",
      "21-41         12.0  16.666667  52.173913  26.666667   61.764706  36.153846\n",
      "41-61         24.0  44.444444  17.391304  33.333333   14.705882  25.384615\n",
      "61-81         48.0  16.666667  21.739130  23.333333   17.647059  25.384615\n",
      "81-101         8.0  11.111111   4.347826  16.666667    0.000000   7.692308\n"
     ]
    },
    {
     "data": {
      "image/png": "[encoded data removed]",
      "text/plain": [
       "<Figure size 1152x720 with 1 Axes>"
      ]
     },
     "metadata": {
      "needs_background": "light"
     },
     "output_type": "display_data"
    }
   ],
   "source": [
    "print(stacked_data.iloc[0:-1, 0:])\n",
    "\n",
    "plot = stacked_data.iloc[0:-1, 0:].transpose().sort_values(by=X, ascending=False)\\\n",
    ".plot(kind=\"barh\", stacked=True, figsize=(16,10), title='Proportion des partis par génération')"
   ]
  },
  {
   "cell_type": "markdown",
   "id": "level-federation",
   "metadata": {},
   "source": [
    "### Tableau en cas d'indépendance\n",
    "\n",
    "Produit des marges divisé par le total et arrondi"
   ]
  },
  {
   "cell_type": "code",
   "execution_count": 54,
   "id": "motivated-immunology",
   "metadata": {},
   "outputs": [
    {
     "data": {
      "text/plain": [
       "130"
      ]
     },
     "execution_count": 54,
     "metadata": {},
     "output_type": "execute_result"
    }
   ],
   "source": [
    "### Total général, dernière cellule de la dernière ligne\n",
    "c_obs_parti_generation.iat[-1,-1]"
   ]
  },
  {
   "cell_type": "code",
   "execution_count": 58,
   "id": "conceptual-secretariat",
   "metadata": {},
   "outputs": [
    {
     "name": "stdout",
     "output_type": "stream",
     "text": [
      "parti       centre  droite  gauche  populiste  écologiste  Total\n",
      "generation                                                      \n",
      "0-21             1       0       1          1           1      7\n",
      "21-41            9       6       8         10          12     47\n",
      "41-61            6       4       5          7           8     33\n",
      "61-81            6       4       5          7           8     33\n",
      "81-101           1       1       1          2           2     10\n",
      "Total           25      18      23         30          34    130\n"
     ]
    }
   ],
   "source": [
    "tx = c_obs_parti_generation.loc[:,[\"Total\"]]\n",
    "ty = c_obs_parti_generation.loc[[\"Total\"],:]\n",
    "n = c_obs_parti_generation.iat[-1,-1] \n",
    "\n",
    "### Compute the matrix multiplication between the columns.\n",
    "# https://pandas.pydata.org/pandas-docs/stable/reference/api/pandas.DataFrame.dot.html\n",
    "indep = tx.dot(ty) / n\n",
    "#pd.options.display.float_format = '{0:3.5}'.format\n",
    "\n",
    "# Arrondi\n",
    "print(indep.astype(int))\n"
   ]
  },
  {
   "cell_type": "code",
   "execution_count": 72,
   "id": "transsexual-drawing",
   "metadata": {},
   "outputs": [
    {
     "ename": "SyntaxError",
     "evalue": "invalid syntax (<ipython-input-72-9d4d38313e00>, line 1)",
     "output_type": "error",
     "traceback": [
      "\u001b[0;36m  File \u001b[0;32m\"<ipython-input-72-9d4d38313e00>\"\u001b[0;36m, line \u001b[0;32m1\u001b[0m\n\u001b[0;31m    c_obs_parti_generation.iloc([:,:])\u001b[0m\n\u001b[0m                                 ^\u001b[0m\n\u001b[0;31mSyntaxError\u001b[0m\u001b[0;31m:\u001b[0m invalid syntax\n"
     ]
    }
   ],
   "source": [
    "c_obs_parti_generation.iloc([:,:])"
   ]
  },
  {
   "cell_type": "code",
   "execution_count": 74,
   "id": "tight-honey",
   "metadata": {},
   "outputs": [
    {
     "name": "stdout",
     "output_type": "stream",
     "text": [
      "parti       centre  droite  gauche  populiste  écologiste\n",
      "generation                                               \n",
      "0-21             0       1       0         -1           0\n",
      "21-41           -6      -3       3         -2           8\n",
      "41-61            0       3      -1          2          -3\n",
      "61-81            5      -1       0          0          -2\n",
      "81-101           0       0       0          2          -2\n"
     ]
    }
   ],
   "source": [
    "### Différence en effectifs entre le théorique et l'observé\n",
    "### Doc. :\n",
    "#  https://openclassrooms.com/fr/courses/4525266-decrivez-et-nettoyez-votre-jeu-de-donnees/4775616-analysez-deux-variables-qualitatives-avec-le-chi-2\n",
    "ecarts = (c_obs_parti_generation-indep).iloc[:-1,:-1]\n",
    "## Attention : arrondi aux entiers dans l'affichage\n",
    "print(ecarts.astype(int))\n"
   ]
  },
  {
   "cell_type": "code",
   "execution_count": 75,
   "id": "monetary-blackberry",
   "metadata": {},
   "outputs": [
    {
     "data": {
      "text/html": [
       "<div>\n",
       "<style scoped>\n",
       "    .dataframe tbody tr th:only-of-type {\n",
       "        vertical-align: middle;\n",
       "    }\n",
       "\n",
       "    .dataframe tbody tr th {\n",
       "        vertical-align: top;\n",
       "    }\n",
       "\n",
       "    .dataframe thead th {\n",
       "        text-align: right;\n",
       "    }\n",
       "</style>\n",
       "<table border=\"1\" class=\"dataframe\">\n",
       "  <thead>\n",
       "    <tr style=\"text-align: right;\">\n",
       "      <th>parti</th>\n",
       "      <th>centre</th>\n",
       "      <th>droite</th>\n",
       "      <th>gauche</th>\n",
       "      <th>populiste</th>\n",
       "      <th>écologiste</th>\n",
       "    </tr>\n",
       "    <tr>\n",
       "      <th>generation</th>\n",
       "      <th></th>\n",
       "      <th></th>\n",
       "      <th></th>\n",
       "      <th></th>\n",
       "      <th></th>\n",
       "    </tr>\n",
       "  </thead>\n",
       "  <tbody>\n",
       "    <tr>\n",
       "      <th>0-21</th>\n",
       "      <td>0.317582</td>\n",
       "      <td>1.096215</td>\n",
       "      <td>0.045915</td>\n",
       "      <td>1.615385</td>\n",
       "      <td>0.015643</td>\n",
       "    </tr>\n",
       "    <tr>\n",
       "      <th>21-41</th>\n",
       "      <td>4.034206</td>\n",
       "      <td>1.890671</td>\n",
       "      <td>1.632683</td>\n",
       "      <td>0.746863</td>\n",
       "      <td>6.168403</td>\n",
       "    </tr>\n",
       "    <tr>\n",
       "      <th>41-61</th>\n",
       "      <td>0.018881</td>\n",
       "      <td>2.575965</td>\n",
       "      <td>0.578909</td>\n",
       "      <td>0.746698</td>\n",
       "      <td>1.527382</td>\n",
       "    </tr>\n",
       "    <tr>\n",
       "      <th>61-81</th>\n",
       "      <td>5.037063</td>\n",
       "      <td>0.538928</td>\n",
       "      <td>0.120411</td>\n",
       "      <td>0.049728</td>\n",
       "      <td>0.801892</td>\n",
       "    </tr>\n",
       "    <tr>\n",
       "      <th>81-101</th>\n",
       "      <td>0.003077</td>\n",
       "      <td>0.273504</td>\n",
       "      <td>0.334448</td>\n",
       "      <td>3.141026</td>\n",
       "      <td>2.615385</td>\n",
       "    </tr>\n",
       "  </tbody>\n",
       "</table>\n",
       "</div>"
      ],
      "text/plain": [
       "parti         centre    droite    gauche  populiste  écologiste\n",
       "generation                                                     \n",
       "0-21        0.317582  1.096215  0.045915   1.615385    0.015643\n",
       "21-41       4.034206  1.890671  1.632683   0.746863    6.168403\n",
       "41-61       0.018881  2.575965  0.578909   0.746698    1.527382\n",
       "61-81       5.037063  0.538928  0.120411   0.049728    0.801892\n",
       "81-101      0.003077  0.273504  0.334448   3.141026    2.615385"
      ]
     },
     "execution_count": 75,
     "metadata": {},
     "output_type": "execute_result"
    }
   ],
   "source": [
    "### Ecarts positifs et pondérés par les effectifs\n",
    "### Doc. :\n",
    "#  https://openclassrooms.com/fr/courses/4525266-decrivez-et-nettoyez-votre-jeu-de-donnees/4775616-analysez-deux-variables-qualitatives-avec-le-chi-2\n",
    "ecarts_ponderes = (c_obs_parti_generation-indep)**2/indep\n",
    "ecarts_ponderes.iloc[:-1,:-1]"
   ]
  },
  {
   "cell_type": "code",
   "execution_count": 79,
   "id": "labeled-upgrade",
   "metadata": {},
   "outputs": [
    {
     "name": "stdout",
     "output_type": "stream",
     "text": [
      "35.926864201160335\n"
     ]
    },
    {
     "data": {
      "image/png": "[encoded data removed]",
      "text/plain": [
       "<Figure size 1440x720 with 2 Axes>"
      ]
     },
     "metadata": {
      "needs_background": "light"
     },
     "output_type": "display_data"
    }
   ],
   "source": [
    "xi_n = ecarts_ponderes.sum().sum()\n",
    "print(xi_n)\n",
    "\n",
    "\n",
    "tableau = ecarts_ponderes.iloc[:-1,:-1]/xi_n\n",
    "fig, ax = plt.subplots(figsize=(20,10))         \n",
    "# Sample figsize in inches\n",
    "g = sns.heatmap(tableau, annot=tableau, cmap=\"coolwarm\", linewidths=.5, ax=ax)\n",
    "labels = tableau.index\n",
    "p = g.set_yticklabels(labels, rotation=30)"
   ]
  },
  {
   "cell_type": "code",
   "execution_count": null,
   "id": "offensive-gauge",
   "metadata": {},
   "outputs": [],
   "source": []
  },
  {
   "cell_type": "markdown",
   "id": "micro-greek",
   "metadata": {},
   "source": [
    "### Appartenance politique et fréquence de lecture du journal"
   ]
  },
  {
   "cell_type": "code",
   "execution_count": 80,
   "id": "collectible-recipient",
   "metadata": {},
   "outputs": [
    {
     "data": {
      "text/html": [
       "<div>\n",
       "<style scoped>\n",
       "    .dataframe tbody tr th:only-of-type {\n",
       "        vertical-align: middle;\n",
       "    }\n",
       "\n",
       "    .dataframe tbody tr th {\n",
       "        vertical-align: top;\n",
       "    }\n",
       "\n",
       "    .dataframe thead th {\n",
       "        text-align: right;\n",
       "    }\n",
       "</style>\n",
       "<table border=\"1\" class=\"dataframe\">\n",
       "  <thead>\n",
       "    <tr style=\"text-align: right;\">\n",
       "      <th>lecture_journal</th>\n",
       "      <th>de temps en temps</th>\n",
       "      <th>le week-end</th>\n",
       "      <th>tous les jours</th>\n",
       "      <th>trois-quatre fois par semaine</th>\n",
       "      <th>très rarement</th>\n",
       "      <th>Total</th>\n",
       "    </tr>\n",
       "    <tr>\n",
       "      <th>parti</th>\n",
       "      <th></th>\n",
       "      <th></th>\n",
       "      <th></th>\n",
       "      <th></th>\n",
       "      <th></th>\n",
       "      <th></th>\n",
       "    </tr>\n",
       "  </thead>\n",
       "  <tbody>\n",
       "    <tr>\n",
       "      <th>centre</th>\n",
       "      <td>5</td>\n",
       "      <td>6</td>\n",
       "      <td>3</td>\n",
       "      <td>6</td>\n",
       "      <td>5</td>\n",
       "      <td>25</td>\n",
       "    </tr>\n",
       "    <tr>\n",
       "      <th>droite</th>\n",
       "      <td>2</td>\n",
       "      <td>6</td>\n",
       "      <td>3</td>\n",
       "      <td>4</td>\n",
       "      <td>3</td>\n",
       "      <td>18</td>\n",
       "    </tr>\n",
       "    <tr>\n",
       "      <th>gauche</th>\n",
       "      <td>3</td>\n",
       "      <td>3</td>\n",
       "      <td>2</td>\n",
       "      <td>5</td>\n",
       "      <td>10</td>\n",
       "      <td>23</td>\n",
       "    </tr>\n",
       "    <tr>\n",
       "      <th>populiste</th>\n",
       "      <td>4</td>\n",
       "      <td>9</td>\n",
       "      <td>3</td>\n",
       "      <td>9</td>\n",
       "      <td>5</td>\n",
       "      <td>30</td>\n",
       "    </tr>\n",
       "    <tr>\n",
       "      <th>écologiste</th>\n",
       "      <td>3</td>\n",
       "      <td>7</td>\n",
       "      <td>6</td>\n",
       "      <td>11</td>\n",
       "      <td>7</td>\n",
       "      <td>34</td>\n",
       "    </tr>\n",
       "    <tr>\n",
       "      <th>Total</th>\n",
       "      <td>17</td>\n",
       "      <td>31</td>\n",
       "      <td>17</td>\n",
       "      <td>35</td>\n",
       "      <td>30</td>\n",
       "      <td>130</td>\n",
       "    </tr>\n",
       "  </tbody>\n",
       "</table>\n",
       "</div>"
      ],
      "text/plain": [
       "lecture_journal  de temps en temps  le week-end  tous les jours  \\\n",
       "parti                                                             \n",
       "centre                           5            6               3   \n",
       "droite                           2            6               3   \n",
       "gauche                           3            3               2   \n",
       "populiste                        4            9               3   \n",
       "écologiste                       3            7               6   \n",
       "Total                           17           31              17   \n",
       "\n",
       "lecture_journal  trois-quatre fois par semaine  très rarement  Total  \n",
       "parti                                                                 \n",
       "centre                                       6              5     25  \n",
       "droite                                       4              3     18  \n",
       "gauche                                       5             10     23  \n",
       "populiste                                    9              5     30  \n",
       "écologiste                                  11              7     34  \n",
       "Total                                       35             30    130  "
      ]
     },
     "execution_count": 80,
     "metadata": {},
     "output_type": "execute_result"
    }
   ],
   "source": [
    "X = \"parti\"  # \"0\"\n",
    "Y = \"lecture_journal\"\n",
    "\n",
    "c_obs_parti_lecture = c_obs[[Y,X]].pivot_table(index=X,columns=Y,aggfunc=len,margins=True,margins_name=\"Total\").fillna(0).astype(int) \n",
    "c_obs_parti_lecture"
   ]
  },
  {
   "cell_type": "code",
   "execution_count": 81,
   "id": "acoustic-prevention",
   "metadata": {},
   "outputs": [
    {
     "data": {
      "text/plain": [
       "130"
      ]
     },
     "execution_count": 81,
     "metadata": {},
     "output_type": "execute_result"
    }
   ],
   "source": [
    "### Total général, dernière cellule de la dernière ligne\n",
    "c_obs_parti_lecture.iat[-1,-1]"
   ]
  },
  {
   "cell_type": "code",
   "execution_count": 82,
   "id": "neural-constant",
   "metadata": {},
   "outputs": [
    {
     "data": {
      "text/html": [
       "<div>\n",
       "<style scoped>\n",
       "    .dataframe tbody tr th:only-of-type {\n",
       "        vertical-align: middle;\n",
       "    }\n",
       "\n",
       "    .dataframe tbody tr th {\n",
       "        vertical-align: top;\n",
       "    }\n",
       "\n",
       "    .dataframe thead th {\n",
       "        text-align: right;\n",
       "    }\n",
       "</style>\n",
       "<table border=\"1\" class=\"dataframe\">\n",
       "  <thead>\n",
       "    <tr style=\"text-align: right;\">\n",
       "      <th>lecture_journal</th>\n",
       "      <th>de temps en temps</th>\n",
       "      <th>le week-end</th>\n",
       "      <th>tous les jours</th>\n",
       "      <th>trois-quatre fois par semaine</th>\n",
       "      <th>très rarement</th>\n",
       "    </tr>\n",
       "    <tr>\n",
       "      <th>parti</th>\n",
       "      <th></th>\n",
       "      <th></th>\n",
       "      <th></th>\n",
       "      <th></th>\n",
       "      <th></th>\n",
       "    </tr>\n",
       "  </thead>\n",
       "  <tbody>\n",
       "    <tr>\n",
       "      <th>centre</th>\n",
       "      <td>5</td>\n",
       "      <td>6</td>\n",
       "      <td>3</td>\n",
       "      <td>6</td>\n",
       "      <td>5</td>\n",
       "    </tr>\n",
       "    <tr>\n",
       "      <th>droite</th>\n",
       "      <td>2</td>\n",
       "      <td>6</td>\n",
       "      <td>3</td>\n",
       "      <td>4</td>\n",
       "      <td>3</td>\n",
       "    </tr>\n",
       "    <tr>\n",
       "      <th>gauche</th>\n",
       "      <td>3</td>\n",
       "      <td>3</td>\n",
       "      <td>2</td>\n",
       "      <td>5</td>\n",
       "      <td>10</td>\n",
       "    </tr>\n",
       "    <tr>\n",
       "      <th>populiste</th>\n",
       "      <td>4</td>\n",
       "      <td>9</td>\n",
       "      <td>3</td>\n",
       "      <td>9</td>\n",
       "      <td>5</td>\n",
       "    </tr>\n",
       "    <tr>\n",
       "      <th>écologiste</th>\n",
       "      <td>3</td>\n",
       "      <td>7</td>\n",
       "      <td>6</td>\n",
       "      <td>11</td>\n",
       "      <td>7</td>\n",
       "    </tr>\n",
       "  </tbody>\n",
       "</table>\n",
       "</div>"
      ],
      "text/plain": [
       "lecture_journal  de temps en temps  le week-end  tous les jours  \\\n",
       "parti                                                             \n",
       "centre                           5            6               3   \n",
       "droite                           2            6               3   \n",
       "gauche                           3            3               2   \n",
       "populiste                        4            9               3   \n",
       "écologiste                       3            7               6   \n",
       "\n",
       "lecture_journal  trois-quatre fois par semaine  très rarement  \n",
       "parti                                                          \n",
       "centre                                       6              5  \n",
       "droite                                       4              3  \n",
       "gauche                                       5             10  \n",
       "populiste                                    9              5  \n",
       "écologiste                                  11              7  "
      ]
     },
     "execution_count": 82,
     "metadata": {},
     "output_type": "execute_result"
    }
   ],
   "source": [
    "c_obs_parti_lecture.iloc[:-1,:-1]"
   ]
  },
  {
   "cell_type": "code",
   "execution_count": 83,
   "id": "steady-gibson",
   "metadata": {},
   "outputs": [
    {
     "name": "stdout",
     "output_type": "stream",
     "text": [
      "lecture_journal  de temps en temps  le week-end  tous les jours  \\\n",
      "parti                                                             \n",
      "centre                           3            5               3   \n",
      "droite                           2            4               2   \n",
      "gauche                           3            5               3   \n",
      "populiste                        3            7               3   \n",
      "écologiste                       4            8               4   \n",
      "Total                           17           31              17   \n",
      "\n",
      "lecture_journal  trois-quatre fois par semaine  très rarement  Total  \n",
      "parti                                                                 \n",
      "centre                                       6              5     25  \n",
      "droite                                       4              4     18  \n",
      "gauche                                       6              5     23  \n",
      "populiste                                    8              6     30  \n",
      "écologiste                                   9              7     34  \n",
      "Total                                       35             30    130  \n"
     ]
    }
   ],
   "source": [
    "tx = c_obs_parti_lecture.loc[:,[\"Total\"]]\n",
    "ty = c_obs_parti_lecture.loc[[\"Total\"],:]\n",
    "n = c_obs_parti_lecture.iat[-1,-1]   # .iloc[:-1,:-1] \n",
    "\n",
    "### Compute the matrix multiplication between the columns.\n",
    "# https://pandas.pydata.org/pandas-docs/stable/reference/api/pandas.DataFrame.dot.html\n",
    "indep = tx.dot(ty) / n\n",
    "#pd.options.display.float_format = '{0:3.5}'.format\n",
    "\n",
    "# Arrondi\n",
    "print(indep.astype(int))\n"
   ]
  },
  {
   "cell_type": "code",
   "execution_count": 77,
   "id": "exciting-suicide",
   "metadata": {},
   "outputs": [
    {
     "name": "stdout",
     "output_type": "stream",
     "text": [
      "lecture_journal  de temps en temps  le week-end  tous les jours  \\\n",
      "parti                                                             \n",
      "centre                           1            0               0   \n",
      "droite                           0            1               0   \n",
      "gauche                           0           -2              -1   \n",
      "populiste                        0            1               0   \n",
      "écologiste                      -1           -1               1   \n",
      "\n",
      "lecture_journal  trois-quatre fois par semaine  très rarement  \n",
      "parti                                                          \n",
      "centre                                       0              0  \n",
      "droite                                       0             -1  \n",
      "gauche                                      -1              4  \n",
      "populiste                                    0             -1  \n",
      "écologiste                                   1              0  \n"
     ]
    }
   ],
   "source": [
    "### Différence en effectifs entre le théorique et l'observé\n",
    "### Doc. :\n",
    "#  https://openclassrooms.com/fr/courses/4525266-decrivez-et-nettoyez-votre-jeu-de-donnees/4775616-analysez-deux-variables-qualitatives-avec-le-chi-2\n",
    "ecarts = (c_obs_parti_lecture-indep)\n",
    "## Attention : arrondi aux entiers dans l'affichage\n",
    "print(ecarts.iloc[:-1,:-1].astype(int))\n"
   ]
  },
  {
   "cell_type": "code",
   "execution_count": 80,
   "id": "restricted-application",
   "metadata": {},
   "outputs": [
    {
     "data": {
      "text/html": [
       "<div>\n",
       "<style scoped>\n",
       "    .dataframe tbody tr th:only-of-type {\n",
       "        vertical-align: middle;\n",
       "    }\n",
       "\n",
       "    .dataframe tbody tr th {\n",
       "        vertical-align: top;\n",
       "    }\n",
       "\n",
       "    .dataframe thead th {\n",
       "        text-align: right;\n",
       "    }\n",
       "</style>\n",
       "<table border=\"1\" class=\"dataframe\">\n",
       "  <thead>\n",
       "    <tr style=\"text-align: right;\">\n",
       "      <th>lecture_journal</th>\n",
       "      <th>de temps en temps</th>\n",
       "      <th>le week-end</th>\n",
       "      <th>tous les jours</th>\n",
       "      <th>trois-quatre fois par semaine</th>\n",
       "      <th>très rarement</th>\n",
       "    </tr>\n",
       "    <tr>\n",
       "      <th>parti</th>\n",
       "      <th></th>\n",
       "      <th></th>\n",
       "      <th></th>\n",
       "      <th></th>\n",
       "      <th></th>\n",
       "    </tr>\n",
       "  </thead>\n",
       "  <tbody>\n",
       "    <tr>\n",
       "      <th>centre</th>\n",
       "      <td>0.916290</td>\n",
       "      <td>0.000248</td>\n",
       "      <td>0.022172</td>\n",
       "      <td>0.079341</td>\n",
       "      <td>0.102564</td>\n",
       "    </tr>\n",
       "    <tr>\n",
       "      <th>droite</th>\n",
       "      <td>0.053193</td>\n",
       "      <td>0.679404</td>\n",
       "      <td>0.177376</td>\n",
       "      <td>0.147741</td>\n",
       "      <td>0.320513</td>\n",
       "    </tr>\n",
       "    <tr>\n",
       "      <th>gauche</th>\n",
       "      <td>0.000020</td>\n",
       "      <td>1.125569</td>\n",
       "      <td>0.337616</td>\n",
       "      <td>0.229575</td>\n",
       "      <td>4.148272</td>\n",
       "    </tr>\n",
       "    <tr>\n",
       "      <th>populiste</th>\n",
       "      <td>0.001508</td>\n",
       "      <td>0.476427</td>\n",
       "      <td>0.217195</td>\n",
       "      <td>0.105495</td>\n",
       "      <td>0.534188</td>\n",
       "    </tr>\n",
       "    <tr>\n",
       "      <th>écologiste</th>\n",
       "      <td>0.470375</td>\n",
       "      <td>0.151336</td>\n",
       "      <td>0.543040</td>\n",
       "      <td>0.372334</td>\n",
       "      <td>0.091252</td>\n",
       "    </tr>\n",
       "  </tbody>\n",
       "</table>\n",
       "</div>"
      ],
      "text/plain": [
       "lecture_journal  de temps en temps  le week-end  tous les jours  \\\n",
       "parti                                                             \n",
       "centre                    0.916290     0.000248        0.022172   \n",
       "droite                    0.053193     0.679404        0.177376   \n",
       "gauche                    0.000020     1.125569        0.337616   \n",
       "populiste                 0.001508     0.476427        0.217195   \n",
       "écologiste                0.470375     0.151336        0.543040   \n",
       "\n",
       "lecture_journal  trois-quatre fois par semaine  très rarement  \n",
       "parti                                                          \n",
       "centre                                0.079341       0.102564  \n",
       "droite                                0.147741       0.320513  \n",
       "gauche                                0.229575       4.148272  \n",
       "populiste                             0.105495       0.534188  \n",
       "écologiste                            0.372334       0.091252  "
      ]
     },
     "execution_count": 80,
     "metadata": {},
     "output_type": "execute_result"
    }
   ],
   "source": [
    "### Ecarts positifs et pondérés par les effectifs\n",
    "### Doc. :\n",
    "#  https://openclassrooms.com/fr/courses/4525266-decrivez-et-nettoyez-votre-jeu-de-donnees/4775616-analysez-deux-variables-qualitatives-avec-le-chi-2\n",
    "ecarts_ponderes = ((c_obs_parti_lecture-indep)**2/indep).iloc[:-1,:-1]\n",
    "ecarts_ponderes"
   ]
  },
  {
   "cell_type": "code",
   "execution_count": 82,
   "id": "simplified-subject",
   "metadata": {},
   "outputs": [
    {
     "name": "stdout",
     "output_type": "stream",
     "text": [
      "11.303040314550042\n"
     ]
    },
    {
     "data": {
      "image/png": "[encoded data removed]",
      "text/plain": [
       "<Figure size 1152x576 with 2 Axes>"
      ]
     },
     "metadata": {
      "needs_background": "light"
     },
     "output_type": "display_data"
    }
   ],
   "source": [
    "## Chi2 :somme des écarts pondérés\n",
    "\n",
    "xi_n = ecarts_ponderes.sum().sum() \n",
    "print(xi_n)\n",
    "\n",
    "table = ecarts_ponderes/xi_n\n",
    "fig, ax = plt.subplots(figsize=(16,8))         \n",
    "# Sample figsize in inches\n",
    "g = sns.heatmap(ecarts_ponderes, annot=ecarts_ponderes, cmap=\"coolwarm\", linewidths=.5, ax=ax)\n",
    "labels = ecarts_ponderes.index\n",
    "p = g.set_yticklabels(labels, rotation=30)"
   ]
  },
  {
   "cell_type": "code",
   "execution_count": null,
   "id": "demanding-device",
   "metadata": {},
   "outputs": [],
   "source": []
  },
  {
   "cell_type": "code",
   "execution_count": null,
   "id": "focal-despite",
   "metadata": {},
   "outputs": [],
   "source": []
  }
 ],
 "metadata": {
  "kernelspec": {
   "display_name": "Python [conda env:shn-pyshs]",
   "language": "python",
   "name": "conda-env-shn-pyshs-py"
  },
  "language_info": {
   "codemirror_mode": {
    "name": "ipython",
    "version": 3
   },
   "file_extension": ".py",
   "mimetype": "text/x-python",
   "name": "python",
   "nbconvert_exporter": "python",
   "pygments_lexer": "ipython3",
   "version": "3.9.10"
  }
 },
 "nbformat": 4,
 "nbformat_minor": 5
}
